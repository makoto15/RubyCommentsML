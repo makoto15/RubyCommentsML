{
 "cells": [
  {
   "cell_type": "code",
   "execution_count": 2,
   "metadata": {},
   "outputs": [],
   "source": [
    "from gensim.models import word2vec\n",
    "import time\n",
    "import glob\n",
    "import os\n",
    "import os.path\n",
    "import random\n",
    "import sys\n",
    "import numpy as np\n",
    "sys.path.append('..')\n",
    "sys.path.append('../..')"
   ]
  },
  {
   "cell_type": "code",
   "execution_count": 6,
   "metadata": {},
   "outputs": [
    {
     "name": "stdout",
     "output_type": "stream",
     "text": [
      "['../src/repositories2Token/all.txt']\n"
     ]
    }
   ],
   "source": [
    "#学習データのファイル群を取得\n",
    "file = glob.glob(\"../src/repositories2Token/all.txt\")\n",
    "print(file)"
   ]
  },
  {
   "cell_type": "code",
   "execution_count": 25,
   "metadata": {},
   "outputs": [
    {
     "name": "stdout",
     "output_type": "stream",
     "text": [
      "['on_ignored_nl', 'require', 'on_tstring_beg', 'on_tstring_content', 'on_tstring_end', 'on_nl', 'require', 'on_tstring_beg', 'on_tstring_content', 'on_tstring_end']\n"
     ]
    }
   ],
   "source": [
    "context = []\n",
    "f = open(file[0])\n",
    "lines = f.readlines()\n",
    "for line in lines:\n",
    "    temp_data = line.replace('\\n','')\n",
    "    temp_data = line.split(' ')\n",
    "    for data in temp_data:\n",
    "        context.append(data)\n",
    "f.close()\n",
    "\n",
    "print(context[0:10])\n"
   ]
  },
  {
   "cell_type": "code",
   "execution_count": null,
   "metadata": {},
   "outputs": [],
   "source": []
  }
 ],
 "metadata": {
  "kernelspec": {
   "display_name": "Python 3",
   "language": "python",
   "name": "python3"
  },
  "language_info": {
   "codemirror_mode": {
    "name": "ipython",
    "version": 3
   },
   "file_extension": ".py",
   "mimetype": "text/x-python",
   "name": "python",
   "nbconvert_exporter": "python",
   "pygments_lexer": "ipython3",
   "version": "3.6.10"
  }
 },
 "nbformat": 4,
 "nbformat_minor": 4
}
