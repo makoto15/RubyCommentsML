{
 "cells": [
  {
   "cell_type": "code",
   "execution_count": 1,
   "metadata": {},
   "outputs": [
    {
     "name": "stderr",
     "output_type": "stream",
     "text": [
      "Using TensorFlow backend.\n",
      "[nltk_data] Downloading package punkt to /Users/makoto/nltk_data...\n",
      "[nltk_data]   Package punkt is already up-to-date!\n"
     ]
    }
   ],
   "source": [
    "# コメント文の分散表現をDoc2Vecを用いて作る。\n",
    "# 副生産物としてコンテキストの分散表現を得る。\n",
    "\n",
    "from gensim.models import Word2Vec\n",
    "from tensorflow import keras\n",
    "import tensorflow as tf\n",
    "from keras.models import load_model\n",
    "import time\n",
    "import glob\n",
    "import os\n",
    "import os.path\n",
    "import random\n",
    "import sys\n",
    "import numpy as np\n",
    "import nltk\n",
    "nltk.download('punkt')\n",
    "\n",
    "from gensim.test.utils import common_texts\n",
    "from gensim.models.doc2vec import Doc2Vec, TaggedDocument\n",
    "\n",
    "from keras.models import Sequential\n",
    "from keras.layers import Dense, Activation, LSTM\n",
    "from keras.optimizers import RMSprop\n",
    "\n",
    "sys.path.append('..')\n",
    "sys.path.append('../..')"
   ]
  },
  {
   "cell_type": "code",
   "execution_count": 2,
   "metadata": {},
   "outputs": [
    {
     "name": "stdout",
     "output_type": "stream",
     "text": [
      "['../../repositories_cleansing/repositories2TokenWithCommentDownOnlyRawDataWithIdent20Tokens/all.txt']\n"
     ]
    }
   ],
   "source": [
    "file = glob.glob(\"../../repositories_cleansing/repositories2TokenWithCommentDownOnlyRawDataWithIdent20Tokens/all.txt\")\n",
    "print(file)"
   ]
  },
  {
   "cell_type": "code",
   "execution_count": 3,
   "metadata": {},
   "outputs": [],
   "source": [
    "#トークンのサイズ\n",
    "tokenSize=20\n",
    "\n",
    "#コメントのベクトルのサイズ\n",
    "commentVecSize=100\n",
    "\n",
    "# コンテキストのベクトルサイズ\n",
    "contextVecSize = 100"
   ]
  },
  {
   "cell_type": "code",
   "execution_count": 4,
   "metadata": {},
   "outputs": [],
   "source": [
    "comments = []\n",
    "contexts = []\n",
    "f = open(file[0])\n",
    "lines = f.readlines()\n",
    "\n",
    "i=0\n",
    "for line in lines:\n",
    "    temp_data = line.replace(\"\\n\",\"\")\n",
    "    temp_context = \" \".join(temp_data.split(' ')[0:tokenSize])\n",
    "    temp_comment = \" \".join(temp_data.split(' ')[tokenSize:])\n",
    "    morphComment = nltk.word_tokenize(temp_comment)\n",
    "    morphContext = nltk.word_tokenize(temp_context)\n",
    "    contexts.append(TaggedDocument(morphContext,[i]))\n",
    "    comments.append(TaggedDocument(morphComment,[i]))\n",
    "    i += 1\n",
    "f.close()\n"
   ]
  },
  {
   "cell_type": "code",
   "execution_count": 5,
   "metadata": {},
   "outputs": [
    {
     "name": "stdout",
     "output_type": "stream",
     "text": [
      "48920\n",
      "48920\n",
      "TaggedDocument(['require', \"'\", 'on_tstring_content', \"'\", 'require', \"'\", 'on_tstring_content', \"'\", 'require', \"'\", 'on_tstring_content', \"'\", 'require', \"'\", 'on_tstring_content', \"'\", 'require', \"'\", 'on_tstring_content', \"'\"], [0])\n",
      "\n",
      "TaggedDocument(['#', '!', '/usr/bin/env', 'ruby', '#', '--', '#', 'Copyright', '2004', 'Austin', 'Ziegler', '<', 'ruby-install', '@', 'halostatue.ca', '>', '#', 'Install', 'utility', '.', 'Based', 'on', 'the', 'original', 'installation', 'script', 'for', 'rdoc', 'by', 'the', '#', 'Pragmatic', 'Programmers', '.', '#', '#', 'This', 'program', 'is', 'free', 'software', '.', 'It', 'may', 'be', 'redistributed', 'and/or', 'modified', 'under', '#', 'the', 'terms', 'of', 'the', 'GPL', 'version', '2', '(', 'or', 'later', ')', 'or', 'the', 'Ruby', 'licence', '.', '#', '#', 'Usage', '#', '--', '--', '-', '#', 'In', 'most', 'cases', ',', 'if', 'you', 'have', 'a', 'typical', 'project', 'layout', ',', 'you', 'will', 'need', 'to', 'do', '#', 'absolutely', 'nothing', 'to', 'make', 'this', 'work', 'for', 'you', '.', 'This', 'layout', 'is', ':', '#', '#', 'bin/', '#', 'executable', 'files', '--', '``', 'commands', \"''\", '#', 'lib/', '#', 'the', 'source', 'of', 'the', 'library', '#', '#', 'The', 'default', 'behaviour', ':', '#', '1', ')', 'Build', 'Rdoc', 'documentation', 'from', 'all', 'files', 'in', 'bin/', '(', 'excluding', '.bat', 'and', '.cmd', ')', ',', '#', 'all', '.rb', 'files', 'in', 'lib/', ',', './README', ',', './ChangeLog', ',', 'and', './Install', '.', '#', '2', ')', 'Build', 'ri', 'documentation', 'from', 'all', 'files', 'in', 'bin/', '(', 'excluding', '.bat', 'and', '.cmd', ')', ',', '#', 'and', 'all', '.rb', 'files', 'in', 'lib/', '.', 'This', 'is', 'disabled', 'by', 'default', 'on', 'Microsoft', 'Windows', '.', '#', '3', ')', 'Install', 'commands', 'from', 'bin/', 'into', 'the', 'Ruby', 'bin', 'directory', '.', 'On', 'Windows', ',', 'if', 'a', '#', 'if', 'a', 'corresponding', 'batch', 'file', '(', '.bat', 'or', '.cmd', ')', 'exists', 'in', 'the', 'bin', 'directory', ',', '#', 'it', 'will', 'be', 'copied', 'over', 'as', 'well', '.', 'Otherwise', ',', 'a', 'batch', 'file', '(', 'always', '.bat', ')', 'will', '#', 'be', 'created', 'to', 'run', 'the', 'specified', 'command', '.', '#', '4', ')', 'Install', 'all', 'library', 'files', 'ending', 'in', '.rb', 'from', 'lib/', 'into', 'Ruby', \"'s\", '#', 'site_lib/version', 'directory', '.', '#', '#', '++'], [0])\n"
     ]
    }
   ],
   "source": [
    "print(len(comments))\n",
    "print(len(contexts))\n",
    "\n",
    "print(contexts[0])\n",
    "print()\n",
    "print(comments[0])"
   ]
  },
  {
   "cell_type": "code",
   "execution_count": 6,
   "metadata": {},
   "outputs": [],
   "source": [
    "commentModel = Doc2Vec(documents=comments, vector_size=commentVecSize,min_count=3,window=5,epochs=20,dm=0)\n",
    "\n",
    "contextModel = Doc2Vec(documents=contexts, vector_size=contextVecSize,min_count=3,window=5,epochs=20,dm=0)"
   ]
  },
  {
   "cell_type": "code",
   "execution_count": 7,
   "metadata": {},
   "outputs": [
    {
     "name": "stdout",
     "output_type": "stream",
     "text": [
      "TaggedDocument(['#', '!', '/usr/bin/env', 'ruby', '#', '--', '#', 'Copyright', '2004', 'Austin', 'Ziegler', '<', 'ruby-install', '@', 'halostatue.ca', '>', '#', 'Install', 'utility', '.', 'Based', 'on', 'the', 'original', 'installation', 'script', 'for', 'rdoc', 'by', 'the', '#', 'Pragmatic', 'Programmers', '.', '#', '#', 'This', 'program', 'is', 'free', 'software', '.', 'It', 'may', 'be', 'redistributed', 'and/or', 'modified', 'under', '#', 'the', 'terms', 'of', 'the', 'GPL', 'version', '2', '(', 'or', 'later', ')', 'or', 'the', 'Ruby', 'licence', '.', '#', '#', 'Usage', '#', '--', '--', '-', '#', 'In', 'most', 'cases', ',', 'if', 'you', 'have', 'a', 'typical', 'project', 'layout', ',', 'you', 'will', 'need', 'to', 'do', '#', 'absolutely', 'nothing', 'to', 'make', 'this', 'work', 'for', 'you', '.', 'This', 'layout', 'is', ':', '#', '#', 'bin/', '#', 'executable', 'files', '--', '``', 'commands', \"''\", '#', 'lib/', '#', 'the', 'source', 'of', 'the', 'library', '#', '#', 'The', 'default', 'behaviour', ':', '#', '1', ')', 'Build', 'Rdoc', 'documentation', 'from', 'all', 'files', 'in', 'bin/', '(', 'excluding', '.bat', 'and', '.cmd', ')', ',', '#', 'all', '.rb', 'files', 'in', 'lib/', ',', './README', ',', './ChangeLog', ',', 'and', './Install', '.', '#', '2', ')', 'Build', 'ri', 'documentation', 'from', 'all', 'files', 'in', 'bin/', '(', 'excluding', '.bat', 'and', '.cmd', ')', ',', '#', 'and', 'all', '.rb', 'files', 'in', 'lib/', '.', 'This', 'is', 'disabled', 'by', 'default', 'on', 'Microsoft', 'Windows', '.', '#', '3', ')', 'Install', 'commands', 'from', 'bin/', 'into', 'the', 'Ruby', 'bin', 'directory', '.', 'On', 'Windows', ',', 'if', 'a', '#', 'if', 'a', 'corresponding', 'batch', 'file', '(', '.bat', 'or', '.cmd', ')', 'exists', 'in', 'the', 'bin', 'directory', ',', '#', 'it', 'will', 'be', 'copied', 'over', 'as', 'well', '.', 'Otherwise', ',', 'a', 'batch', 'file', '(', 'always', '.bat', ')', 'will', '#', 'be', 'created', 'to', 'run', 'the', 'specified', 'command', '.', '#', '4', ')', 'Install', 'all', 'library', 'files', 'ending', 'in', '.rb', 'from', 'lib/', 'into', 'Ruby', \"'s\", '#', 'site_lib/version', 'directory', '.', '#', '#', '++'], [0])\n",
      "[ 0.13461874 -0.506836    0.45508182  0.29355174  0.39606172 -0.07023067\n",
      "  0.3884938   0.5649818   0.4963823   0.10012125  0.15765625 -0.5713806\n",
      "  0.04020774 -0.43545544 -0.01319788  0.06411453 -0.0014     -0.03988561\n",
      "  0.03292812  0.1362861  -0.40025964  0.37471694 -0.03272289 -0.0044458\n",
      " -0.0976711   0.23499821 -0.00464008  0.1593209  -0.05835554 -0.20476423\n",
      "  0.1852924  -0.10624471  0.19606976 -0.11660541  0.22719109  0.1273779\n",
      " -0.33521494 -0.29040587 -0.09328705 -0.21872033 -0.5808444  -0.2569617\n",
      " -0.06497874 -0.06147118  0.04948319 -0.13155138 -0.16912344  0.17781031\n",
      "  0.34942386 -0.48665985  0.26746947 -0.3229184   0.14414304 -0.25135422\n",
      " -0.2909998   0.18427911  0.18351413  0.6286765  -0.08079936 -0.32879195\n",
      " -0.23303969 -0.07527519  0.33727106  0.259997    0.36901054 -0.53866184\n",
      " -0.17957616 -0.15576367 -0.18944053  0.17599517  0.66519237  0.2693797\n",
      " -0.0334451   0.07583249  0.00404621  0.18521078  0.09118796  0.15694968\n",
      " -0.29340303 -0.15609942 -0.40189555  0.5974814   0.12868753  0.25227964\n",
      " -0.03366966  0.35933962  0.08484703  0.2320487   0.12692471  0.5297321\n",
      " -0.08701617  0.0132932  -0.3688517  -0.18827546 -0.12831514  0.05539466\n",
      " -0.00264762  0.07550587  0.00457448  0.3475326 ]\n"
     ]
    }
   ],
   "source": [
    "print(comments[0])\n",
    "print(commentModel.docvecs[0])"
   ]
  },
  {
   "cell_type": "code",
   "execution_count": 8,
   "metadata": {},
   "outputs": [
    {
     "data": {
      "text/plain": [
       "[(48893, 0.5595793128013611),\n",
       " (47295, 0.5578314065933228),\n",
       " (26200, 0.557135820388794),\n",
       " (10013, 0.5496345162391663),\n",
       " (6831, 0.5489787459373474),\n",
       " (45645, 0.5414491891860962),\n",
       " (5773, 0.5412502288818359),\n",
       " (12980, 0.5406416058540344),\n",
       " (31088, 0.5391349196434021),\n",
       " (21598, 0.5389913320541382)]"
      ]
     },
     "execution_count": 8,
     "metadata": {},
     "output_type": "execute_result"
    }
   ],
   "source": [
    "# 文章IDが0の文章と似た文章とその内積を得ることが出来る。\n",
    "commentModel.docvecs.most_similar(0)"
   ]
  },
  {
   "cell_type": "code",
   "execution_count": 9,
   "metadata": {},
   "outputs": [
    {
     "name": "stdout",
     "output_type": "stream",
     "text": [
      "TaggedDocument(['#', 'Cleanup', 'old', 'assets', 'in', 'the', 'compile', 'directory', '.', 'By', 'default', 'it', 'will', '#', 'keep', 'the', 'latest', 'version', ',', '2', 'backups', 'created', 'within', 'the', 'past', 'hour', '.', '#', '#', 'Examples', '#', '#', 'To', 'force', 'only', '1', 'backup', 'to', 'be', 'kept', ',', 'set', 'count=1', 'and', 'age=0', '.', '#', '#', 'To', 'only', 'keep', 'files', 'created', 'within', 'the', 'last', '10', 'minutes', ',', 'set', 'count=0', 'and', '#', 'age=600', '.', '#'], [48893])\n",
      "TaggedDocument(['#', 'As', 'per', 'the', 'BSD', 'manual', 'page', ',', 'set', 'if', 'this', 'is', 'a', 'directory', ',', 'or', 'if', '#', 'any', 'execute', 'bit', 'is', 'set', 'on', 'the', 'original', '(', 'unmodified', ')', 'mode', '.', '#', 'Ignored', 'otherwise', ';', 'it', 'is', '``', 'add', 'if', \"''\", ',', 'not', '``', 'add', 'or', 'clear', \"''\", '.'], [6831])\n",
      "TaggedDocument(['#', 'Batch', 'file', 'deletions', ',', 'deleting', 'over', '130,000+', 'files', 'will', 'crash', '#', 'File.delete', '.'], [47295])\n"
     ]
    }
   ],
   "source": [
    "print(comments[48893])\n",
    "print(comments[6831])\n",
    "print(comments[47295])"
   ]
  },
  {
   "cell_type": "code",
   "execution_count": 10,
   "metadata": {},
   "outputs": [
    {
     "name": "stdout",
     "output_type": "stream",
     "text": [
      "TaggedDocument(['#', 'to_f', 'is', \"n't\", 'quite', 'exact', 'for', 'strings', 'like', '``', '1.5.1', \"''\", 'but', 'is', 'good', '#', 'enough', 'for', 'this', 'purpose', '.'], [3])\n"
     ]
    },
    {
     "data": {
      "text/plain": [
       "[(46428, 0.8304678797721863),\n",
       " (10579, 0.8175169825553894),\n",
       " (10683, 0.8035566210746765),\n",
       " (42715, 0.8013337850570679),\n",
       " (20442, 0.795933723449707),\n",
       " (21750, 0.795441746711731),\n",
       " (20965, 0.7908487915992737),\n",
       " (11791, 0.7889671325683594),\n",
       " (25185, 0.7867152094841003),\n",
       " (9431, 0.786310613155365)]"
      ]
     },
     "execution_count": 10,
     "metadata": {},
     "output_type": "execute_result"
    }
   ],
   "source": [
    "# 文章IDが3の文章と似た文章とその内積を得ることが出来る。\n",
    "print(comments[3])\n",
    "commentModel.docvecs.most_similar(3)"
   ]
  },
  {
   "cell_type": "code",
   "execution_count": 11,
   "metadata": {},
   "outputs": [
    {
     "name": "stdout",
     "output_type": "stream",
     "text": [
      "TaggedDocument(['#', 'only', 'consume', 'for', '``', 'k4', \"''\"], [21156])\n",
      "TaggedDocument(['#', 'Style/LambdaCall', 'checks', 'for', 'this', 'syntax'], [46428])\n",
      "TaggedDocument(['#', 'OpenBSD', 'uses', 'a', 'format', 'like', '``', 'january', '1', '1970', \"''\"], [8996])\n"
     ]
    }
   ],
   "source": [
    "print(comments[21156])\n",
    "print(comments[46428])\n",
    "print(comments[8996])"
   ]
  },
  {
   "cell_type": "code",
   "execution_count": null,
   "metadata": {},
   "outputs": [],
   "source": []
  },
  {
   "cell_type": "code",
   "execution_count": 12,
   "metadata": {},
   "outputs": [
    {
     "data": {
      "text/plain": [
       "[('Metrics/CyclomaticComplexity', 0.4190030097961426),\n",
       " ('Actor', 0.3959883451461792),\n",
       " ('ten', 0.35167044401168823),\n",
       " ('c', 0.3442232608795166),\n",
       " ('running', 0.3435203433036804),\n",
       " ('1111', 0.326791375875473),\n",
       " ('dispatched', 0.3259218633174896),\n",
       " ('sublocated', 0.3259182572364807),\n",
       " ('cleanup', 0.3207174241542816),\n",
       " ('warn', 0.30853238701820374)]"
      ]
     },
     "execution_count": 12,
     "metadata": {},
     "output_type": "execute_result"
    }
   ],
   "source": [
    "commentModel.wv.most_similar(positive=['if', 'while'], negative=['for'])"
   ]
  },
  {
   "cell_type": "code",
   "execution_count": null,
   "metadata": {},
   "outputs": [],
   "source": []
  },
  {
   "cell_type": "code",
   "execution_count": null,
   "metadata": {},
   "outputs": [],
   "source": []
  },
  {
   "cell_type": "code",
   "execution_count": 13,
   "metadata": {},
   "outputs": [
    {
     "name": "stdout",
     "output_type": "stream",
     "text": [
      "TaggedDocument(['require', \"'\", 'on_tstring_content', \"'\", 'require', \"'\", 'on_tstring_content', \"'\", 'require', \"'\", 'on_tstring_content', \"'\", 'require', \"'\", 'on_tstring_content', \"'\", 'require', \"'\", 'on_tstring_content', \"'\"], [0])\n",
      "[ 0.14942591  0.04476078 -0.08624335  0.20802586 -0.16894369  0.01417536\n",
      "  0.12015094 -0.27508286 -0.00056314  0.06796762  0.26169962 -0.17186958\n",
      " -0.03121093  0.15890312 -0.06047279 -0.15954329  0.18595025  0.0173465\n",
      "  0.08395198  0.10360787  0.02072055  0.13271223  0.04694368  0.2899401\n",
      "  0.03773314  0.19109818 -0.07554463  0.17902733 -0.17628229  0.10071837\n",
      "  0.0534431   0.05054125  0.0134237   0.07988356  0.03521914 -0.08090281\n",
      " -0.04948153 -0.01012222  0.2610698  -0.01909072  0.08893159  0.05091891\n",
      " -0.08425293  0.07588919  0.18043168 -0.10571592 -0.2595168   0.04802063\n",
      "  0.05657126  0.14225365 -0.25362933  0.08394774  0.05786087 -0.05642432\n",
      " -0.18143529  0.34933048  0.35458565  0.2542341  -0.06130609 -0.1409034\n",
      " -0.02983069  0.29059738 -0.04218122 -0.20859057  0.12631853  0.02664045\n",
      " -0.08183639 -0.28367782  0.1879304   0.06533006  0.03140033  0.06967711\n",
      "  0.05857962  0.05237654  0.28006202 -0.30817133  0.14499554 -0.03404282\n",
      "  0.11805867  0.1342854  -0.30571556 -0.16530037 -0.3641518   0.20364337\n",
      "  0.12489036  0.07588939  0.02990337  0.04428374 -0.07998536 -0.24892041\n",
      " -0.0602441  -0.16730633 -0.07657767  0.33533472 -0.1105844   0.03599362\n",
      "  0.21060605 -0.09323426  0.21223103  0.32162258]\n"
     ]
    }
   ],
   "source": [
    "print(contexts[0])\n",
    "print(contextModel.docvecs[0])"
   ]
  },
  {
   "cell_type": "code",
   "execution_count": 14,
   "metadata": {},
   "outputs": [
    {
     "data": {
      "text/plain": [
       "[(2924, 0.9926709532737732),\n",
       " (1395, 0.9916930794715881),\n",
       " (10083, 0.9910852909088135),\n",
       " (10655, 0.9907947778701782),\n",
       " (46648, 0.9902456402778625),\n",
       " (10659, 0.9893110394477844),\n",
       " (10656, 0.9891499280929565),\n",
       " (22872, 0.9889997243881226),\n",
       " (10749, 0.9886319637298584),\n",
       " (34952, 0.9884748458862305)]"
      ]
     },
     "execution_count": 14,
     "metadata": {},
     "output_type": "execute_result"
    }
   ],
   "source": [
    "# 文章IDが0の文章と似た文章とその内積を得ることが出来る。\n",
    "contextModel.docvecs.most_similar(0)"
   ]
  },
  {
   "cell_type": "code",
   "execution_count": 15,
   "metadata": {},
   "outputs": [
    {
     "name": "stdout",
     "output_type": "stream",
     "text": [
      "TaggedDocument(['require', \"'\", 'on_tstring_content', \"'\", 'require', \"'\", 'on_tstring_content', \"'\", 'require', \"'\", 'on_tstring_content', \"'\", 'require', \"'\", 'on_tstring_content', \"'\", 'require', \"'\", 'on_tstring_content', \"'\"], [6584])\n",
      "TaggedDocument(['require', \"'\", 'on_tstring_content', \"'\", 'require', \"'\", 'on_tstring_content', \"'\", 'require', \"'\", 'on_tstring_content', \"'\", 'require', \"'\", 'on_tstring_content', \"'\", 'require', \"'\", 'on_tstring_content', \"'\"], [10656])\n",
      "TaggedDocument(['base_branch', '=', 'self', '.', 'pr_json', '[', '``', 'on_tstring_content', '``', ']', '[', '``', 'on_tstring_content', '``', ']', 'base_commit', '=', 'self', '.', 'pr_json'], [45548])\n"
     ]
    }
   ],
   "source": [
    "print(contexts[6584])\n",
    "print(contexts[10656])\n",
    "print(contexts[45548])"
   ]
  },
  {
   "cell_type": "code",
   "execution_count": 16,
   "metadata": {},
   "outputs": [
    {
     "name": "stdout",
     "output_type": "stream",
     "text": [
      "TaggedDocument(['UNK', '=', 'facter', '.', 'version', '.', 'to_f', 'if', 'UNK', '<', 'UNK', 'puts', '``', 'on_tstring_content', '#', '{', 'UNK', '}', 'on_tstring_content', '#', '{', 'UNK'], [3])\n"
     ]
    },
    {
     "data": {
      "text/plain": [
       "[(9054, 0.9159144163131714),\n",
       " (6871, 0.9131546020507812),\n",
       " (9055, 0.9129316806793213),\n",
       " (2416, 0.9113594889640808),\n",
       " (11775, 0.9095793962478638),\n",
       " (2708, 0.9080649018287659),\n",
       " (43559, 0.9064557552337646),\n",
       " (41762, 0.9055429100990295),\n",
       " (34035, 0.9048767685890198),\n",
       " (30968, 0.9040793180465698)]"
      ]
     },
     "execution_count": 16,
     "metadata": {},
     "output_type": "execute_result"
    }
   ],
   "source": [
    "# 文章IDが3の文章と似た文章とその内積を得ることが出来る。\n",
    "print(contexts[3])\n",
    "contextModel.docvecs.most_similar(3)"
   ]
  },
  {
   "cell_type": "code",
   "execution_count": 17,
   "metadata": {},
   "outputs": [
    {
     "name": "stdout",
     "output_type": "stream",
     "text": [
      "TaggedDocument(['if', 'resource_name', 'UNK', '<', '<', '``', 'on_tstring_content', '#', '{', 'UNK', '}', 'on_tstring_content', '#', '{', 'resource_name', '}', '``', 'else', 'UNK', '<', '<', '``', 'on_tstring_content', '#', '{'], [9055])\n",
      "TaggedDocument(['UNK', '<', '<', 'UNK', 'if', 'resource_name', 'UNK', '<', '<', '``', 'on_tstring_content', '#', '{', 'UNK', '}', 'on_tstring_content', '#', '{', 'resource_name', '}', '``', 'else', 'UNK', '<', '<'], [9054])\n",
      "TaggedDocument(['installed_range', '=', '``', 'on_tstring_content', '#', '{', 'version', '}', 'on_tstring_content', '#', '{', 'version', '.', 'major', '}', 'on_tstring_content', '``', 'graph', '.', 'UNK', '(', \"'\"], [11303])\n"
     ]
    }
   ],
   "source": [
    "print(contexts[9055])\n",
    "print(contexts[9054])\n",
    "print(contexts[11303])"
   ]
  },
  {
   "cell_type": "code",
   "execution_count": 18,
   "metadata": {},
   "outputs": [],
   "source": [
    "contextModel.save(\"context2VecDoc2Vec.model\")\n",
    "\n",
    "# commentModel.save(\"comment2VecDoc2Vec.model\")"
   ]
  },
  {
   "cell_type": "code",
   "execution_count": 19,
   "metadata": {},
   "outputs": [
    {
     "data": {
      "text/plain": [
       "[('c', 0.3442232608795166),\n",
       " ('running', 0.3435203433036804),\n",
       " ('element_matches', 0.33222806453704834),\n",
       " ('clazz', 0.3300752639770508),\n",
       " ('new_setting', 0.3220473527908325),\n",
       " ('cleanup', 0.3207174241542816),\n",
       " ('page_number', 0.31760305166244507),\n",
       " ('load_resources', 0.3168272078037262),\n",
       " ('tick', 0.31372538208961487),\n",
       " ('warn', 0.30853238701820374)]"
      ]
     },
     "execution_count": 19,
     "metadata": {},
     "output_type": "execute_result"
    }
   ],
   "source": [
    "contextModel.wv.most_similar(positive=['if', 'while'], negative=['for'])"
   ]
  },
  {
   "cell_type": "code",
   "execution_count": null,
   "metadata": {},
   "outputs": [],
   "source": []
  },
  {
   "cell_type": "code",
   "execution_count": null,
   "metadata": {},
   "outputs": [],
   "source": []
  },
  {
   "cell_type": "code",
   "execution_count": null,
   "metadata": {},
   "outputs": [],
   "source": []
  }
 ],
 "metadata": {
  "kernelspec": {
   "display_name": "Python 3",
   "language": "python",
   "name": "python3"
  },
  "language_info": {
   "codemirror_mode": {
    "name": "ipython",
    "version": 3
   },
   "file_extension": ".py",
   "mimetype": "text/x-python",
   "name": "python",
   "nbconvert_exporter": "python",
   "pygments_lexer": "ipython3",
   "version": "3.6.10"
  }
 },
 "nbformat": 4,
 "nbformat_minor": 4
}
