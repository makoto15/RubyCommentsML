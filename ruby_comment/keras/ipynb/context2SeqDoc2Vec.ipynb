{
 "cells": [
  {
   "cell_type": "code",
   "execution_count": 25,
   "metadata": {},
   "outputs": [
    {
     "name": "stderr",
     "output_type": "stream",
     "text": [
      "[nltk_data] Downloading package punkt to /Users/makoto/nltk_data...\n",
      "[nltk_data]   Package punkt is already up-to-date!\n"
     ]
    }
   ],
   "source": [
    "# コメント文の分散表現をDoc2Vecを用いて作る。\n",
    "# 副生産物としてコンテキストの分散表現を得る。\n",
    "\n",
    "from gensim.models import Word2Vec\n",
    "from tensorflow import keras\n",
    "import tensorflow as tf\n",
    "from keras.models import load_model\n",
    "import time\n",
    "import glob\n",
    "import os\n",
    "import os.path\n",
    "import random\n",
    "import sys\n",
    "import numpy as np\n",
    "import nltk\n",
    "nltk.download('punkt')\n",
    "\n",
    "from gensim.test.utils import common_texts\n",
    "from gensim.models.doc2vec import Doc2Vec, TaggedDocument\n",
    "\n",
    "from keras.models import Sequential\n",
    "from keras.layers import Dense, Activation, LSTM\n",
    "from keras.optimizers import RMSprop\n",
    "\n",
    "sys.path.append('..')\n",
    "sys.path.append('../..')"
   ]
  },
  {
   "cell_type": "code",
   "execution_count": 26,
   "metadata": {},
   "outputs": [
    {
     "name": "stdout",
     "output_type": "stream",
     "text": [
      "['../../repositories_cleansing/repositories2TokenWithCommentDownOnlyRawDataWithIdent20Tokens/all.txt']\n"
     ]
    }
   ],
   "source": [
    "file = glob.glob(\"../../repositories_cleansing/repositories2TokenWithCommentDownOnlyRawDataWithIdent20Tokens/all.txt\")\n",
    "print(file)"
   ]
  },
  {
   "cell_type": "code",
   "execution_count": 27,
   "metadata": {},
   "outputs": [],
   "source": [
    "#トークンのサイズ\n",
    "tokenSize=20\n",
    "\n",
    "#コメントのベクトルのサイズ\n",
    "commentVecSize=100\n",
    "\n",
    "# コンテキストのベクトルサイズ\n",
    "contextVecSize = 100"
   ]
  },
  {
   "cell_type": "code",
   "execution_count": 28,
   "metadata": {},
   "outputs": [],
   "source": [
    "comments = []\n",
    "contexts = []\n",
    "f = open(file[0])\n",
    "lines = f.readlines()\n",
    "\n",
    "i=0\n",
    "for line in lines:\n",
    "    temp_data = line.replace(\"\\n\",\"\")\n",
    "    temp_context = \" \".join(temp_data.split(' ')[0:tokenSize])\n",
    "    temp_comment = \" \".join(temp_data.split(' ')[tokenSize:])\n",
    "    morphComment = nltk.word_tokenize(temp_comment)\n",
    "    morphContext = nltk.word_tokenize(temp_context)\n",
    "    contexts.append(TaggedDocument(morphContext,[i]))\n",
    "    comments.append(TaggedDocument(morphComment,[i]))\n",
    "    i += 1\n",
    "f.close()\n"
   ]
  },
  {
   "cell_type": "code",
   "execution_count": 29,
   "metadata": {},
   "outputs": [
    {
     "name": "stdout",
     "output_type": "stream",
     "text": [
      "48920\n",
      "48920\n",
      "TaggedDocument(['require', \"'\", 'on_tstring_content', \"'\", 'require', \"'\", 'on_tstring_content', \"'\", 'require', \"'\", 'on_tstring_content', \"'\", 'require', \"'\", 'on_tstring_content', \"'\", 'require', \"'\", 'on_tstring_content', \"'\"], [0])\n",
      "\n",
      "TaggedDocument(['#', '!', '/usr/bin/env', 'ruby', '#', '--', '#', 'Copyright', '2004', 'Austin', 'Ziegler', '<', 'ruby-install', '@', 'halostatue.ca', '>', '#', 'Install', 'utility', '.', 'Based', 'on', 'the', 'original', 'installation', 'script', 'for', 'rdoc', 'by', 'the', '#', 'Pragmatic', 'Programmers', '.', '#', '#', 'This', 'program', 'is', 'free', 'software', '.', 'It', 'may', 'be', 'redistributed', 'and/or', 'modified', 'under', '#', 'the', 'terms', 'of', 'the', 'GPL', 'version', '2', '(', 'or', 'later', ')', 'or', 'the', 'Ruby', 'licence', '.', '#', '#', 'Usage', '#', '--', '--', '-', '#', 'In', 'most', 'cases', ',', 'if', 'you', 'have', 'a', 'typical', 'project', 'layout', ',', 'you', 'will', 'need', 'to', 'do', '#', 'absolutely', 'nothing', 'to', 'make', 'this', 'work', 'for', 'you', '.', 'This', 'layout', 'is', ':', '#', '#', 'bin/', '#', 'executable', 'files', '--', '``', 'commands', \"''\", '#', 'lib/', '#', 'the', 'source', 'of', 'the', 'library', '#', '#', 'The', 'default', 'behaviour', ':', '#', '1', ')', 'Build', 'Rdoc', 'documentation', 'from', 'all', 'files', 'in', 'bin/', '(', 'excluding', '.bat', 'and', '.cmd', ')', ',', '#', 'all', '.rb', 'files', 'in', 'lib/', ',', './README', ',', './ChangeLog', ',', 'and', './Install', '.', '#', '2', ')', 'Build', 'ri', 'documentation', 'from', 'all', 'files', 'in', 'bin/', '(', 'excluding', '.bat', 'and', '.cmd', ')', ',', '#', 'and', 'all', '.rb', 'files', 'in', 'lib/', '.', 'This', 'is', 'disabled', 'by', 'default', 'on', 'Microsoft', 'Windows', '.', '#', '3', ')', 'Install', 'commands', 'from', 'bin/', 'into', 'the', 'Ruby', 'bin', 'directory', '.', 'On', 'Windows', ',', 'if', 'a', '#', 'if', 'a', 'corresponding', 'batch', 'file', '(', '.bat', 'or', '.cmd', ')', 'exists', 'in', 'the', 'bin', 'directory', ',', '#', 'it', 'will', 'be', 'copied', 'over', 'as', 'well', '.', 'Otherwise', ',', 'a', 'batch', 'file', '(', 'always', '.bat', ')', 'will', '#', 'be', 'created', 'to', 'run', 'the', 'specified', 'command', '.', '#', '4', ')', 'Install', 'all', 'library', 'files', 'ending', 'in', '.rb', 'from', 'lib/', 'into', 'Ruby', \"'s\", '#', 'site_lib/version', 'directory', '.', '#', '#', '++'], [0])\n"
     ]
    }
   ],
   "source": [
    "print(len(comments))\n",
    "print(len(contexts))\n",
    "\n",
    "print(contexts[0])\n",
    "print()\n",
    "print(comments[0])"
   ]
  },
  {
   "cell_type": "code",
   "execution_count": 30,
   "metadata": {},
   "outputs": [],
   "source": [
    "commentModel = Doc2Vec(documents=comments, vector_size=commentVecSize,min_count=3,window=5,epochs=20,dm=0)\n",
    "\n",
    "contextModel = Doc2Vec(documents=contexts, vector_size=contextVecSize,min_count=3,window=5,epochs=20,dm=0)"
   ]
  },
  {
   "cell_type": "code",
   "execution_count": 31,
   "metadata": {},
   "outputs": [
    {
     "name": "stdout",
     "output_type": "stream",
     "text": [
      "TaggedDocument(['#', '!', '/usr/bin/env', 'ruby', '#', '--', '#', 'Copyright', '2004', 'Austin', 'Ziegler', '<', 'ruby-install', '@', 'halostatue.ca', '>', '#', 'Install', 'utility', '.', 'Based', 'on', 'the', 'original', 'installation', 'script', 'for', 'rdoc', 'by', 'the', '#', 'Pragmatic', 'Programmers', '.', '#', '#', 'This', 'program', 'is', 'free', 'software', '.', 'It', 'may', 'be', 'redistributed', 'and/or', 'modified', 'under', '#', 'the', 'terms', 'of', 'the', 'GPL', 'version', '2', '(', 'or', 'later', ')', 'or', 'the', 'Ruby', 'licence', '.', '#', '#', 'Usage', '#', '--', '--', '-', '#', 'In', 'most', 'cases', ',', 'if', 'you', 'have', 'a', 'typical', 'project', 'layout', ',', 'you', 'will', 'need', 'to', 'do', '#', 'absolutely', 'nothing', 'to', 'make', 'this', 'work', 'for', 'you', '.', 'This', 'layout', 'is', ':', '#', '#', 'bin/', '#', 'executable', 'files', '--', '``', 'commands', \"''\", '#', 'lib/', '#', 'the', 'source', 'of', 'the', 'library', '#', '#', 'The', 'default', 'behaviour', ':', '#', '1', ')', 'Build', 'Rdoc', 'documentation', 'from', 'all', 'files', 'in', 'bin/', '(', 'excluding', '.bat', 'and', '.cmd', ')', ',', '#', 'all', '.rb', 'files', 'in', 'lib/', ',', './README', ',', './ChangeLog', ',', 'and', './Install', '.', '#', '2', ')', 'Build', 'ri', 'documentation', 'from', 'all', 'files', 'in', 'bin/', '(', 'excluding', '.bat', 'and', '.cmd', ')', ',', '#', 'and', 'all', '.rb', 'files', 'in', 'lib/', '.', 'This', 'is', 'disabled', 'by', 'default', 'on', 'Microsoft', 'Windows', '.', '#', '3', ')', 'Install', 'commands', 'from', 'bin/', 'into', 'the', 'Ruby', 'bin', 'directory', '.', 'On', 'Windows', ',', 'if', 'a', '#', 'if', 'a', 'corresponding', 'batch', 'file', '(', '.bat', 'or', '.cmd', ')', 'exists', 'in', 'the', 'bin', 'directory', ',', '#', 'it', 'will', 'be', 'copied', 'over', 'as', 'well', '.', 'Otherwise', ',', 'a', 'batch', 'file', '(', 'always', '.bat', ')', 'will', '#', 'be', 'created', 'to', 'run', 'the', 'specified', 'command', '.', '#', '4', ')', 'Install', 'all', 'library', 'files', 'ending', 'in', '.rb', 'from', 'lib/', 'into', 'Ruby', \"'s\", '#', 'site_lib/version', 'directory', '.', '#', '#', '++'], [0])\n",
      "[ 5.38883626e-01  1.29358694e-01  1.29767075e-01  1.02400094e-01\n",
      " -3.08241606e-01  8.23125660e-01 -1.23883123e-02  3.50839138e-01\n",
      " -1.83660522e-01  2.47136578e-02  1.34175494e-01 -4.11408208e-02\n",
      " -5.01772203e-02 -4.34637874e-01 -1.79067597e-01  1.24764703e-01\n",
      " -1.08019508e-01 -5.91104925e-02  5.41224897e-01  6.60448009e-03\n",
      "  7.11392262e-04 -2.46352807e-01  1.33678049e-01  4.99474294e-02\n",
      " -1.19084403e-01  1.24090850e-01 -3.13436270e-01  1.74928293e-01\n",
      " -2.31872976e-01 -4.88633057e-03 -3.38646859e-01 -3.12329888e-01\n",
      "  2.96399385e-01  2.73413271e-01 -4.50882390e-02 -7.53864869e-02\n",
      " -5.33792377e-01 -3.30940157e-01 -4.19779450e-01 -1.63497075e-01\n",
      " -1.40798807e-01  6.48577437e-02  4.27552789e-01 -5.75615913e-02\n",
      "  1.62199289e-01  6.24482520e-02  1.01052344e-01  6.42984584e-02\n",
      "  1.89630449e-01  3.62043053e-01 -5.68259433e-02 -1.01771913e-01\n",
      "  1.75555006e-01 -1.08255160e+00  2.60944933e-01  3.34870428e-01\n",
      "  6.81481063e-02  3.55065539e-02  1.27465218e-01  2.23213196e-01\n",
      "  5.98210454e-01  1.39559254e-01 -5.04460819e-02 -2.39203796e-02\n",
      "  6.41677201e-01 -7.96552449e-02  2.30933562e-01 -1.38375372e-01\n",
      " -1.70255944e-01  8.07325542e-02  1.97992604e-02  1.84206098e-01\n",
      " -2.52925009e-01  6.39087409e-02 -1.77853525e-01 -2.89302796e-01\n",
      " -1.80300355e-01  2.44367555e-01  1.18603259e-01  3.95558596e-01\n",
      "  3.44346255e-01 -3.95407259e-01  1.58692434e-01  1.36663035e-01\n",
      "  3.61767530e-01  1.68187141e-01 -2.19384506e-01 -2.00920716e-01\n",
      "  1.90540522e-01  4.61530656e-01 -2.47987300e-01 -4.63821888e-02\n",
      " -5.10884672e-02 -5.89391105e-02 -1.76168814e-01  2.57777750e-01\n",
      "  2.39662632e-01 -7.93811604e-02  4.51012105e-01 -4.79416102e-01]\n"
     ]
    }
   ],
   "source": [
    "print(comments[0])\n",
    "print(commentModel.docvecs[0])"
   ]
  },
  {
   "cell_type": "code",
   "execution_count": 32,
   "metadata": {},
   "outputs": [
    {
     "data": {
      "text/plain": [
       "[(48893, 0.5651543140411377),\n",
       " (17908, 0.5623788833618164),\n",
       " (12744, 0.5596225261688232),\n",
       " (26200, 0.5574123859405518),\n",
       " (21598, 0.5556349754333496),\n",
       " (6831, 0.5486117005348206),\n",
       " (12, 0.5466195344924927),\n",
       " (25389, 0.5462836623191833),\n",
       " (39428, 0.5443388223648071),\n",
       " (19382, 0.543512225151062)]"
      ]
     },
     "execution_count": 32,
     "metadata": {},
     "output_type": "execute_result"
    }
   ],
   "source": [
    "# 文章IDが0の文章と似た文章とその内積を得ることが出来る。\n",
    "commentModel.docvecs.most_similar(0)"
   ]
  },
  {
   "cell_type": "code",
   "execution_count": 33,
   "metadata": {},
   "outputs": [
    {
     "name": "stdout",
     "output_type": "stream",
     "text": [
      "TaggedDocument(['#', 'Cleanup', 'old', 'assets', 'in', 'the', 'compile', 'directory', '.', 'By', 'default', 'it', 'will', '#', 'keep', 'the', 'latest', 'version', ',', '2', 'backups', 'created', 'within', 'the', 'past', 'hour', '.', '#', '#', 'Examples', '#', '#', 'To', 'force', 'only', '1', 'backup', 'to', 'be', 'kept', ',', 'set', 'count=1', 'and', 'age=0', '.', '#', '#', 'To', 'only', 'keep', 'files', 'created', 'within', 'the', 'last', '10', 'minutes', ',', 'set', 'count=0', 'and', '#', 'age=600', '.', '#'], [48893])\n",
      "TaggedDocument(['#', 'As', 'per', 'the', 'BSD', 'manual', 'page', ',', 'set', 'if', 'this', 'is', 'a', 'directory', ',', 'or', 'if', '#', 'any', 'execute', 'bit', 'is', 'set', 'on', 'the', 'original', '(', 'unmodified', ')', 'mode', '.', '#', 'Ignored', 'otherwise', ';', 'it', 'is', '``', 'add', 'if', \"''\", ',', 'not', '``', 'add', 'or', 'clear', \"''\", '.'], [6831])\n",
      "TaggedDocument(['#', 'Batch', 'file', 'deletions', ',', 'deleting', 'over', '130,000+', 'files', 'will', 'crash', '#', 'File.delete', '.'], [47295])\n"
     ]
    }
   ],
   "source": [
    "print(comments[48893])\n",
    "print(comments[6831])\n",
    "print(comments[47295])"
   ]
  },
  {
   "cell_type": "code",
   "execution_count": 34,
   "metadata": {},
   "outputs": [
    {
     "name": "stdout",
     "output_type": "stream",
     "text": [
      "TaggedDocument(['#', 'to_f', 'is', \"n't\", 'quite', 'exact', 'for', 'strings', 'like', '``', '1.5.1', \"''\", 'but', 'is', 'good', '#', 'enough', 'for', 'this', 'purpose', '.'], [3])\n"
     ]
    },
    {
     "data": {
      "text/plain": [
       "[(21750, 0.8109817504882812),\n",
       " (36751, 0.8074740171432495),\n",
       " (46428, 0.8016729354858398),\n",
       " (10683, 0.7960600852966309),\n",
       " (42717, 0.790931224822998),\n",
       " (10579, 0.7836476564407349),\n",
       " (19361, 0.7833571434020996),\n",
       " (36309, 0.7810547351837158),\n",
       " (36883, 0.7787360548973083),\n",
       " (9431, 0.7775939702987671)]"
      ]
     },
     "execution_count": 34,
     "metadata": {},
     "output_type": "execute_result"
    }
   ],
   "source": [
    "# 文章IDが3の文章と似た文章とその内積を得ることが出来る。\n",
    "print(comments[3])\n",
    "commentModel.docvecs.most_similar(3)"
   ]
  },
  {
   "cell_type": "code",
   "execution_count": 35,
   "metadata": {},
   "outputs": [
    {
     "name": "stdout",
     "output_type": "stream",
     "text": [
      "TaggedDocument(['#', 'only', 'consume', 'for', '``', 'k4', \"''\"], [21156])\n",
      "TaggedDocument(['#', 'Style/LambdaCall', 'checks', 'for', 'this', 'syntax'], [46428])\n",
      "TaggedDocument(['#', 'OpenBSD', 'uses', 'a', 'format', 'like', '``', 'january', '1', '1970', \"''\"], [8996])\n"
     ]
    }
   ],
   "source": [
    "print(comments[21156])\n",
    "print(comments[46428])\n",
    "print(comments[8996])"
   ]
  },
  {
   "cell_type": "code",
   "execution_count": 15,
   "metadata": {},
   "outputs": [],
   "source": []
  },
  {
   "cell_type": "code",
   "execution_count": 36,
   "metadata": {},
   "outputs": [
    {
     "data": {
      "text/plain": [
       "[('1.1', 0.3753271996974945),\n",
       " ('authie', 0.36641567945480347),\n",
       " ('thereof', 0.35550248622894287),\n",
       " ('composing', 0.3448277711868286),\n",
       " (\"'Stuff\", 0.3283698558807373),\n",
       " ('Encryption', 0.32470762729644775),\n",
       " ('rubocop', 0.31718140840530396),\n",
       " ('conform', 0.31333932280540466),\n",
       " ('dark', 0.3114791512489319),\n",
       " ('MachOStructure', 0.30941542983055115)]"
      ]
     },
     "execution_count": 36,
     "metadata": {},
     "output_type": "execute_result"
    }
   ],
   "source": [
    "commentModel.wv.most_similar(positive=['if', 'while'], negative=['for'])"
   ]
  },
  {
   "cell_type": "code",
   "execution_count": null,
   "metadata": {},
   "outputs": [],
   "source": []
  },
  {
   "cell_type": "code",
   "execution_count": null,
   "metadata": {},
   "outputs": [],
   "source": []
  },
  {
   "cell_type": "code",
   "execution_count": 37,
   "metadata": {},
   "outputs": [
    {
     "name": "stdout",
     "output_type": "stream",
     "text": [
      "TaggedDocument(['require', \"'\", 'on_tstring_content', \"'\", 'require', \"'\", 'on_tstring_content', \"'\", 'require', \"'\", 'on_tstring_content', \"'\", 'require', \"'\", 'on_tstring_content', \"'\", 'require', \"'\", 'on_tstring_content', \"'\"], [0])\n",
      "[ 2.97713995e-01 -6.85936734e-02  2.68514931e-01 -1.28271878e-01\n",
      "  2.30795696e-01 -2.79075149e-02  1.64558455e-01  8.59486014e-02\n",
      "  2.33235240e-01  3.22632380e-02  1.17004693e-01 -9.28113684e-02\n",
      "  3.76100503e-02  1.07012510e-01  2.02631742e-01 -1.70020863e-01\n",
      " -3.16465795e-02 -8.09936784e-03  7.60693029e-02 -1.47292733e-01\n",
      " -4.50780131e-02 -4.98311073e-02 -2.06342172e-02  1.12484157e-01\n",
      "  4.33944426e-02  2.44559035e-01 -3.16905305e-02 -2.66788080e-02\n",
      "  4.45607118e-02 -8.48076120e-03 -8.47092643e-02  1.65301353e-01\n",
      "  5.19284457e-02  7.46410564e-02  1.72349855e-01  2.95050684e-02\n",
      " -1.76930472e-01  3.27142216e-02  1.00642387e-02  1.63083989e-02\n",
      " -3.35894972e-01 -1.69896986e-02 -7.26563521e-05  3.20425592e-02\n",
      " -4.54382412e-02  6.45143315e-02  1.94610842e-02 -2.12266713e-01\n",
      " -2.14204222e-01  3.30300294e-02  3.16172332e-01  3.31934243e-01\n",
      "  2.09852529e-04 -2.52411634e-01 -1.80429474e-01  1.03632011e-01\n",
      " -7.05600455e-02  3.31093930e-02  2.94144056e-03 -2.64127821e-01\n",
      "  3.21231753e-01 -4.79807347e-01  8.36422220e-02  3.30868103e-02\n",
      "  2.17236862e-01 -2.23063335e-01  1.09668165e-01  1.42803118e-01\n",
      " -6.58717426e-03  2.49865390e-02 -3.65163445e-01 -1.14751142e-02\n",
      "  3.58026475e-02 -6.43786862e-02 -2.72653162e-01 -6.92875758e-02\n",
      "  2.99174129e-03  3.64258379e-01 -3.35217416e-02  1.36403531e-01\n",
      "  2.03604281e-01 -5.52826747e-02  3.18984658e-01 -1.31241709e-01\n",
      " -4.16915789e-02 -4.62575704e-02  1.38451513e-02 -2.45896205e-01\n",
      "  1.64098889e-02  7.21461996e-02  4.99541722e-02 -1.95838824e-01\n",
      "  3.19228798e-01  1.82311401e-01 -8.15617442e-02  1.78212926e-01\n",
      " -1.03895262e-01  2.01427892e-01  7.90356174e-02  9.02423561e-02]\n"
     ]
    }
   ],
   "source": [
    "print(contexts[0])\n",
    "print(contextModel.docvecs[0])"
   ]
  },
  {
   "cell_type": "code",
   "execution_count": 38,
   "metadata": {},
   "outputs": [
    {
     "data": {
      "text/plain": [
       "[(6584, 0.996588945388794),\n",
       " (10656, 0.9928668141365051),\n",
       " (46648, 0.9921393394470215),\n",
       " (43447, 0.9907289743423462),\n",
       " (10657, 0.990708589553833),\n",
       " (11211, 0.99045729637146),\n",
       " (10658, 0.9899718761444092),\n",
       " (10083, 0.9899154901504517),\n",
       " (10749, 0.9898542165756226),\n",
       " (22975, 0.989286482334137)]"
      ]
     },
     "execution_count": 38,
     "metadata": {},
     "output_type": "execute_result"
    }
   ],
   "source": [
    "# 文章IDが0の文章と似た文章とその内積を得ることが出来る。\n",
    "contextModel.docvecs.most_similar(0)"
   ]
  },
  {
   "cell_type": "code",
   "execution_count": 39,
   "metadata": {},
   "outputs": [
    {
     "name": "stdout",
     "output_type": "stream",
     "text": [
      "TaggedDocument(['require', \"'\", 'on_tstring_content', \"'\", 'require', \"'\", 'on_tstring_content', \"'\", 'require', \"'\", 'on_tstring_content', \"'\", 'require', \"'\", 'on_tstring_content', \"'\", 'require', \"'\", 'on_tstring_content', \"'\"], [6584])\n",
      "TaggedDocument(['require', \"'\", 'on_tstring_content', \"'\", 'require', \"'\", 'on_tstring_content', \"'\", 'require', \"'\", 'on_tstring_content', \"'\", 'require', \"'\", 'on_tstring_content', \"'\", 'require', \"'\", 'on_tstring_content', \"'\"], [10656])\n",
      "TaggedDocument(['base_branch', '=', 'self', '.', 'pr_json', '[', '``', 'on_tstring_content', '``', ']', '[', '``', 'on_tstring_content', '``', ']', 'base_commit', '=', 'self', '.', 'pr_json'], [45548])\n"
     ]
    }
   ],
   "source": [
    "print(contexts[6584])\n",
    "print(contexts[10656])\n",
    "print(contexts[45548])"
   ]
  },
  {
   "cell_type": "code",
   "execution_count": 40,
   "metadata": {},
   "outputs": [
    {
     "name": "stdout",
     "output_type": "stream",
     "text": [
      "TaggedDocument(['UNK', '=', 'facter', '.', 'version', '.', 'to_f', 'if', 'UNK', '<', 'UNK', 'puts', '``', 'on_tstring_content', '#', '{', 'UNK', '}', 'on_tstring_content', '#', '{', 'UNK'], [3])\n"
     ]
    },
    {
     "data": {
      "text/plain": [
       "[(9055, 0.9172937870025635),\n",
       " (9054, 0.9098228216171265),\n",
       " (11303, 0.90413898229599),\n",
       " (34035, 0.9039670825004578),\n",
       " (13436, 0.9034141898155212),\n",
       " (41762, 0.9018785357475281),\n",
       " (13412, 0.9008514285087585),\n",
       " (2416, 0.9000276327133179),\n",
       " (2874, 0.8991254568099976),\n",
       " (2708, 0.8975423574447632)]"
      ]
     },
     "execution_count": 40,
     "metadata": {},
     "output_type": "execute_result"
    }
   ],
   "source": [
    "# 文章IDが3の文章と似た文章とその内積を得ることが出来る。\n",
    "print(contexts[3])\n",
    "contextModel.docvecs.most_similar(3)"
   ]
  },
  {
   "cell_type": "code",
   "execution_count": 41,
   "metadata": {},
   "outputs": [
    {
     "name": "stdout",
     "output_type": "stream",
     "text": [
      "TaggedDocument(['if', 'resource_name', 'UNK', '<', '<', '``', 'on_tstring_content', '#', '{', 'UNK', '}', 'on_tstring_content', '#', '{', 'resource_name', '}', '``', 'else', 'UNK', '<', '<', '``', 'on_tstring_content', '#', '{'], [9055])\n",
      "TaggedDocument(['UNK', '<', '<', 'UNK', 'if', 'resource_name', 'UNK', '<', '<', '``', 'on_tstring_content', '#', '{', 'UNK', '}', 'on_tstring_content', '#', '{', 'resource_name', '}', '``', 'else', 'UNK', '<', '<'], [9054])\n",
      "TaggedDocument(['installed_range', '=', '``', 'on_tstring_content', '#', '{', 'version', '}', 'on_tstring_content', '#', '{', 'version', '.', 'major', '}', 'on_tstring_content', '``', 'graph', '.', 'UNK', '(', \"'\"], [11303])\n"
     ]
    }
   ],
   "source": [
    "print(contexts[9055])\n",
    "print(contexts[9054])\n",
    "print(contexts[11303])"
   ]
  },
  {
   "cell_type": "code",
   "execution_count": null,
   "metadata": {},
   "outputs": [],
   "source": [
    "contextModel.save(\"context2VecDoc2Vec.model\")\n",
    "\n",
    "# commentModel.save(\"comment2VecDoc2Vec.model\")"
   ]
  },
  {
   "cell_type": "code",
   "execution_count": 43,
   "metadata": {},
   "outputs": [
    {
     "data": {
      "text/plain": [
       "[('local_ci_source', 0.35620760917663574),\n",
       " ('severityproducer', 0.3255493640899658),\n",
       " ('rubocop', 0.31718140840530396),\n",
       " ('equality_attributes', 0.31101417541503906),\n",
       " ('naming', 0.3094143867492676),\n",
       " ('add_metric', 0.3011810779571533),\n",
       " ('invited', 0.29916706681251526),\n",
       " ('suspended', 0.2958837151527405),\n",
       " ('xhtml_preamble', 0.29482078552246094),\n",
       " ('time', 0.29315832257270813)]"
      ]
     },
     "execution_count": 43,
     "metadata": {},
     "output_type": "execute_result"
    }
   ],
   "source": [
    "contextModel.wv.most_similar(positive=['if', 'while'], negative=['for'])"
   ]
  },
  {
   "cell_type": "code",
   "execution_count": null,
   "metadata": {},
   "outputs": [],
   "source": []
  }
 ],
 "metadata": {
  "kernelspec": {
   "display_name": "Python 3",
   "language": "python",
   "name": "python3"
  },
  "language_info": {
   "codemirror_mode": {
    "name": "ipython",
    "version": 3
   },
   "file_extension": ".py",
   "mimetype": "text/x-python",
   "name": "python",
   "nbconvert_exporter": "python",
   "pygments_lexer": "ipython3",
   "version": "3.6.10"
  }
 },
 "nbformat": 4,
 "nbformat_minor": 4
}
