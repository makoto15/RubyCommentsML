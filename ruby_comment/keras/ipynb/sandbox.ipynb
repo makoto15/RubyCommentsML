{
 "cells": [
  {
   "cell_type": "code",
   "execution_count": 1,
   "metadata": {},
   "outputs": [
    {
     "name": "stderr",
     "output_type": "stream",
     "text": [
      "Using TensorFlow backend.\n",
      "[nltk_data] Downloading package punkt to /Users/makoto/nltk_data...\n",
      "[nltk_data]   Package punkt is already up-to-date!\n"
     ]
    }
   ],
   "source": [
    "from gensim.models import Word2Vec\n",
    "from tensorflow import keras\n",
    "import tensorflow as tf\n",
    "from keras.models import load_model\n",
    "import time\n",
    "import glob\n",
    "import os\n",
    "import os.path\n",
    "import random\n",
    "import sys\n",
    "import numpy as np\n",
    "import nltk\n",
    "nltk.download('punkt')\n",
    "import matplotlib.pyplot as plt\n",
    "\n",
    "from gensim.test.utils import common_texts\n",
    "from gensim.models.doc2vec import Doc2Vec, TaggedDocument\n",
    "\n",
    "from keras.models import Sequential\n",
    "from keras.layers import Dense, Activation, LSTM\n",
    "from keras.optimizers import RMSprop\n",
    "\n",
    "sys.path.append('..')\n",
    "sys.path.append('../..')\n",
    "\n"
   ]
  },
  {
   "cell_type": "code",
   "execution_count": 7,
   "metadata": {},
   "outputs": [],
   "source": [
    "predictionModel =  keras.models.load_model(\"../../models/seq2CommentPrediction.model\")\n",
    "maxLen=19"
   ]
  },
  {
   "cell_type": "code",
   "execution_count": 50,
   "metadata": {},
   "outputs": [],
   "source": [
    "context2VecModel = Word2Vec.load(\"../../models/context2Vec.model\")\n",
    "comment2VecModel = Doc2Vec.load(\"../../models/comment2Vec.model\")\n",
    "context2SeqModel = keras.models.load_model(\"../../models/context2Seq.model\")"
   ]
  },
  {
   "cell_type": "code",
   "execution_count": 8,
   "metadata": {},
   "outputs": [
    {
     "name": "stdout",
     "output_type": "stream",
     "text": [
      "['../../src/repositories2TokenWithComment/all.txt']\n"
     ]
    }
   ],
   "source": [
    "#学習データのファイル群を取得\n",
    "file = glob.glob(\"../../src/repositories2TokenWithComment/all.txt\")\n",
    "print(file)"
   ]
  },
  {
   "cell_type": "code",
   "execution_count": 9,
   "metadata": {},
   "outputs": [
    {
     "name": "stdout",
     "output_type": "stream",
     "text": [
      "48920\n",
      "['require', 'on_tstring_beg', 'on_tstring_content', 'on_tstring_end', 'require', 'on_tstring_beg', 'on_tstring_content', 'on_tstring_end', 'require', 'on_tstring_beg', 'on_tstring_content', 'on_tstring_end', 'require', 'on_tstring_beg', 'on_tstring_content', 'on_tstring_end', 'require', 'on_tstring_beg', 'on_tstring_content']\n",
      "require\n"
     ]
    }
   ],
   "source": [
    "contexts = []\n",
    "comments = []\n",
    "f = open(file[0])\n",
    "lines = f.readlines()\n",
    "i=0\n",
    "for line in lines:\n",
    "    temp_data = line.replace('\\n','')\n",
    "    temp_context = temp_data.split(' ')[0:maxLen]\n",
    "    temp_comment = \" \".join(temp_data.split(' ')[(maxLen+1):])\n",
    "    morph = nltk.word_tokenize(temp_comment)\n",
    "    contexts.append(temp_context)\n",
    "    comments.append(TaggedDocument(morph,[i]))\n",
    "    i += 1\n",
    "f.close()\n",
    "print(len(contexts))\n",
    "\n",
    "print(contexts[0])\n",
    "print(contexts[0][0])"
   ]
  },
  {
   "cell_type": "code",
   "execution_count": 10,
   "metadata": {},
   "outputs": [
    {
     "name": "stdout",
     "output_type": "stream",
     "text": [
      "48920\n",
      "48920\n",
      "['require', 'on_tstring_beg', 'on_tstring_content', 'on_tstring_end', 'require', 'on_tstring_beg', 'on_tstring_content', 'on_tstring_end', 'require', 'on_tstring_beg', 'on_tstring_content', 'on_tstring_end', 'require', 'on_tstring_beg', 'on_tstring_content', 'on_tstring_end', 'require', 'on_tstring_beg', 'on_tstring_content']\n"
     ]
    }
   ],
   "source": [
    "print(len(comments))\n",
    "print(len(contexts))\n",
    "\n",
    "print(contexts[0])\n"
   ]
  },
  {
   "cell_type": "code",
   "execution_count": 11,
   "metadata": {},
   "outputs": [
    {
     "name": "stdout",
     "output_type": "stream",
     "text": [
      "48920\n",
      "48920\n"
     ]
    }
   ],
   "source": [
    "print(len(contexts))\n",
    "print(len(comments))"
   ]
  },
  {
   "cell_type": "code",
   "execution_count": 40,
   "metadata": {},
   "outputs": [],
   "source": [
    "#95%を学習データに5%をテストデータに\n",
    "\n",
    "trainNum = int((len(contexts)*9.99/10))\n",
    "testNum = len(contexts)-trainNum\n",
    "testData = contexts[trainNum:]\n",
    "testDataAns = comments[trainNum:]"
   ]
  },
  {
   "cell_type": "code",
   "execution_count": 41,
   "metadata": {},
   "outputs": [
    {
     "name": "stdout",
     "output_type": "stream",
     "text": [
      "{'_self_setattr_tracking': True, '_trainable': True, '_stateful': False, '_build_input_shape': TensorShape([None, 30]), '_saved_model_inputs_spec': TensorSpec(shape=(None, 30), dtype=tf.float32, name='dense_input'), '_input_spec': None, '_supports_masking': True, '_name': 'sequential', '_activity_regularizer': None, '_trainable_weights': [], '_non_trainable_weights': [], '_updates': [], '_thread_local': <_thread._local object at 0x7f8671b57db0>, '_callable_losses': [], '_losses': [], '_metrics': [], '_metrics_lock': <unlocked _thread.lock object at 0x7f8690266fa8>, '_dtype_policy': <Policy \"float32\", loss_scale=None>, '_dtype_defaulted_to_floatx': False, '_compute_dtype_object': tf.float32, '_autocast': False, '_layers': [<tensorflow.python.keras.engine.input_layer.InputLayer object at 0x7f869028b668>, <tensorflow.python.keras.layers.core.Dense object at 0x7f86610cc828>, <tensorflow.python.keras.layers.core.Activation object at 0x7f86610cc320>, <tensorflow.python.keras.layers.core.Dense object at 0x7f86610cceb8>], '_inbound_nodes': [], '_outbound_nodes': [], '_expects_training_arg': True, '_default_training_arg': None, '_expects_mask_arg': True, '_dynamic': False, '_initial_weights': None, '_auto_track_sub_layers': False, '_is_graph_network': True, 'inputs': [<tf.Tensor 'dense_input_1:0' shape=(None, 30) dtype=float32>], 'outputs': [<tf.Tensor 'dense_1/BiasAdd_1:0' shape=(None, 30) dtype=float32>], 'input_names': ['dense_input'], 'output_names': ['dense_1'], 'stop_training': False, 'history': None, '_compute_output_and_mask_jointly': True, '_distribution_strategy': None, 'train_function': None, 'test_function': None, 'predict_function': None, '_compiled_trainable_state': <WeakKeyDictionary at 0x7f8690290ef0>, '_training_state': None, '_trackable_saver': <tensorflow.python.training.tracking.util.TrackableSaver object at 0x7f86610d0eb8>, '_steps_per_execution': <tf.Variable 'Variable:0' shape=() dtype=int64, numpy=1>, '_train_counter': <tf.Variable 'Variable:0' shape=() dtype=int64, numpy=0>, '_test_counter': <tf.Variable 'Variable:0' shape=() dtype=int64, numpy=0>, '_predict_counter': <tf.Variable 'Variable:0' shape=() dtype=int64, numpy=0>, '_base_model_initialized': True, '_inferred_input_shape': None, '_has_explicit_input_shape': True, '_input_dtype': None, '_layer_call_argspecs': {<tensorflow.python.keras.engine.input_layer.InputLayer object at 0x7f869028b668>: FullArgSpec(args=['self', 'inputs'], varargs=None, varkw='kwargs', defaults=None, kwonlyargs=[], kwonlydefaults=None, annotations={}), <tensorflow.python.keras.layers.core.Dense object at 0x7f86610cc828>: FullArgSpec(args=['self', 'inputs'], varargs=None, varkw=None, defaults=None, kwonlyargs=[], kwonlydefaults=None, annotations={}), <tensorflow.python.keras.layers.core.Activation object at 0x7f86610cc320>: FullArgSpec(args=['self', 'inputs'], varargs=None, varkw=None, defaults=None, kwonlyargs=[], kwonlydefaults=None, annotations={}), <tensorflow.python.keras.layers.core.Dense object at 0x7f86610cceb8>: FullArgSpec(args=['self', 'inputs'], varargs=None, varkw=None, defaults=None, kwonlyargs=[], kwonlydefaults=None, annotations={})}, '_created_nodes': set(), '_graph_initialized': True, '_use_legacy_deferred_behavior': False, '_self_unconditional_checkpoint_dependencies': [TrackableReference(name='_self_saveable_object_factories', ref=DictWrapper({})), TrackableReference(name='optimizer', ref=<tensorflow.python.keras.optimizer_v2.rmsprop.RMSprop object at 0x7f8671bfdc88>), TrackableReference(name='signatures', ref=_SignatureMap({'serving_default': <ConcreteFunction signature_wrapper(dense_input) at 0x7F86610DA6D8>}))], '_self_unconditional_dependency_names': {'_self_saveable_object_factories': DictWrapper({}), 'optimizer': <tensorflow.python.keras.optimizer_v2.rmsprop.RMSprop object at 0x7f8671bfdc88>, 'signatures': _SignatureMap({'serving_default': <ConcreteFunction signature_wrapper(dense_input) at 0x7F86610DA6D8>})}, '_self_unconditional_deferred_dependencies': {}, '_self_name_based_restores': set(), '_obj_reference_counts_dict': ObjectIdentityDictionary({<_ObjectIdentityWrapper wrapping True>: 2, <_ObjectIdentityWrapper wrapping DictWrapper({})>: 1, <_ObjectIdentityWrapper wrapping _SignatureMap({'serving_default': <ConcreteFunction signature_wrapper(dense_input) at 0x7F86610DA6D8>})>: 1, <_ObjectIdentityWrapper wrapping 1098>: 1, <_ObjectIdentityWrapper wrapping >: 1, <_ObjectIdentityWrapper wrapping '2.5.0'>: 1, <_ObjectIdentityWrapper wrapping 'v2.5.0-rc3-213-ga4dfb8d1a71'>: 1, <_ObjectIdentityWrapper wrapping <tensorflow.python.keras.optimizer_v2.rmsprop.RMSprop object at 0x7f8671bfdc88>>: 1, <_ObjectIdentityWrapper wrapping <tensorflow.python.keras.engine.compile_utils.LossesContainer object at 0x7f86610c3710>>: 1, <_ObjectIdentityWrapper wrapping <tensorflow.python.keras.engine.compile_utils.MetricsContainer object at 0x7f8690264278>>: 1, <_ObjectIdentityWrapper wrapping <function mean_squared_error at 0x7f86388d5950>>: 1}), 'built': True, '_serialized_attributes': {'metadata': {'name': 'sequential', 'trainable': True, 'expects_training_arg': True, 'dtype': 'float32', 'batch_input_shape': None, 'must_restore_from_config': False, 'class_name': 'Sequential', 'config': {'name': 'sequential', 'layers': [{'class_name': 'InputLayer', 'config': {'batch_input_shape': (None, 30), 'dtype': 'float32', 'sparse': False, 'ragged': False, 'name': 'dense_input'}}, {'class_name': 'Dense', 'config': {'name': 'dense', 'trainable': True, 'batch_input_shape': (None, 30), 'dtype': 'float32', 'units': 128, 'activation': 'linear', 'use_bias': True, 'kernel_initializer': {'class_name': 'GlorotUniform', 'config': {'seed': None}}, 'bias_initializer': {'class_name': 'Zeros', 'config': {}}, 'kernel_regularizer': None, 'bias_regularizer': None, 'activity_regularizer': None, 'kernel_constraint': None, 'bias_constraint': None}}, {'class_name': 'Activation', 'config': {'name': 'activation', 'trainable': True, 'dtype': 'float32', 'activation': 'relu'}}, {'class_name': 'Dense', 'config': {'name': 'dense_1', 'trainable': True, 'dtype': 'float32', 'units': 30, 'activation': 'linear', 'use_bias': True, 'kernel_initializer': {'class_name': 'GlorotUniform', 'config': {'seed': None}}, 'bias_initializer': {'class_name': 'Zeros', 'config': {}}, 'kernel_regularizer': None, 'bias_regularizer': None, 'activity_regularizer': None, 'kernel_constraint': None, 'bias_constraint': None}}]}, 'shared_object_id': 8, 'input_spec': {'class_name': 'InputSpec', 'config': {'dtype': None, 'shape': None, 'ndim': None, 'max_ndim': None, 'min_ndim': 2, 'axes': {'-1': 30}}, 'shared_object_id': 9}, 'build_input_shape': TensorShape([None, 30]), 'is_graph_network': True, 'save_spec': {'class_name': 'TypeSpec', 'type_spec': 'tf.TensorSpec', 'serialized': [TensorShape([None, 30]), 'float32', 'dense_input']}, 'keras_version': '2.5.0', 'backend': 'tensorflow', 'model_config': {'class_name': 'Sequential', 'config': {'name': 'sequential', 'layers': [{'class_name': 'InputLayer', 'config': {'batch_input_shape': (None, 30), 'dtype': 'float32', 'sparse': False, 'ragged': False, 'name': 'dense_input'}, 'shared_object_id': 0}, {'class_name': 'Dense', 'config': {'name': 'dense', 'trainable': True, 'batch_input_shape': (None, 30), 'dtype': 'float32', 'units': 128, 'activation': 'linear', 'use_bias': True, 'kernel_initializer': {'class_name': 'GlorotUniform', 'config': {'seed': None}, 'shared_object_id': 1}, 'bias_initializer': {'class_name': 'Zeros', 'config': {}, 'shared_object_id': 2}, 'kernel_regularizer': None, 'bias_regularizer': None, 'activity_regularizer': None, 'kernel_constraint': None, 'bias_constraint': None}, 'shared_object_id': 3}, {'class_name': 'Activation', 'config': {'name': 'activation', 'trainable': True, 'dtype': 'float32', 'activation': 'relu'}, 'shared_object_id': 4}, {'class_name': 'Dense', 'config': {'name': 'dense_1', 'trainable': True, 'dtype': 'float32', 'units': 30, 'activation': 'linear', 'use_bias': True, 'kernel_initializer': {'class_name': 'GlorotUniform', 'config': {'seed': None}, 'shared_object_id': 5}, 'bias_initializer': {'class_name': 'Zeros', 'config': {}, 'shared_object_id': 6}, 'kernel_regularizer': None, 'bias_regularizer': None, 'activity_regularizer': None, 'kernel_constraint': None, 'bias_constraint': None}, 'shared_object_id': 7}]}}, 'training_config': {'loss': 'mean_squared_error', 'metrics': None, 'weighted_metrics': None, 'loss_weights': None, 'optimizer_config': {'class_name': 'rmsprop', 'config': {'name': 'RMSprop', 'learning_rate': 0.009999999776482582, 'decay': 0.0, 'rho': 0.8999999761581421, 'momentum': 0.0, 'epsilon': 1e-07, 'centered': False}}}}, 'regularization_losses': ListWrapper([]), 'trainable_variables': ListWrapper([<tf.Variable 'dense/kernel:0' shape=(30, 128) dtype=float32, numpy=\n",
      "array([[ 0.07477634,  0.14089623, -0.03622787, ..., -0.1746333 ,\n",
      "        -0.12000073,  0.05981628],\n",
      "       [ 0.12392963, -0.02109188, -0.14102471, ...,  0.12555835,\n",
      "        -0.02527853, -0.07115064],\n",
      "       [-0.3155519 , -0.08407029, -0.00849117, ..., -0.04468258,\n",
      "        -0.02094026, -0.09647296],\n",
      "       ...,\n",
      "       [-0.04900032,  0.0977295 ,  0.2340695 , ..., -0.19745143,\n",
      "        -0.15297383, -0.05418069],\n",
      "       [-0.2009259 ,  0.04994413,  0.11356288, ...,  0.12637825,\n",
      "        -0.08101673, -0.00578481],\n",
      "       [-0.14507163,  0.05545254, -0.38240507, ..., -0.00835562,\n",
      "         0.33261234, -0.00491398]], dtype=float32)>, <tf.Variable 'dense/bias:0' shape=(128,) dtype=float32, numpy=\n",
      "array([-1.59593716e-01, -1.89482659e-01, -1.55627802e-01, -1.86286986e-01,\n",
      "       -1.00578919e-01, -1.32960796e-01, -1.07325330e-01, -2.14248642e-01,\n",
      "        2.85570938e-02, -1.20163962e-01, -1.66222215e-01, -1.37248695e-01,\n",
      "       -1.06953196e-01, -1.08853951e-01, -3.18490326e-01, -5.23090065e-01,\n",
      "       -1.57533318e-01, -1.17847778e-01, -1.66764677e-01, -1.67983130e-01,\n",
      "       -4.01661575e-01, -1.12747848e-01, -1.14861056e-01, -1.00579284e-01,\n",
      "       -1.32288158e-01, -3.35286570e+00, -8.52221069e+01, -1.08439215e-01,\n",
      "       -1.64691657e-01, -1.09291606e-01, -1.33459017e-01, -7.97978938e-02,\n",
      "       -1.31143004e-01, -1.26827493e-01, -1.25229105e-01, -1.15126026e+00,\n",
      "       -1.14107355e-01, -1.07188284e-01, -1.58924952e-01, -1.30704582e-01,\n",
      "       -1.49758667e-01, -1.60235643e-01, -1.03860863e-01, -1.42708659e-01,\n",
      "       -8.25520232e-02, -1.67472810e-01, -1.17390662e-01, -1.40783444e-01,\n",
      "       -1.63790464e-01, -1.32025376e-01, -1.60858929e-01, -1.14670977e-01,\n",
      "       -1.37409359e-01, -1.49493709e-01, -1.39846504e-01, -1.45034760e-01,\n",
      "       -1.28653795e-01, -1.38298526e-01, -1.35048613e-01, -2.60419279e-01,\n",
      "       -1.08573586e-01, -2.12122530e-01, -1.77988112e-01, -1.65866181e-01,\n",
      "       -1.54556900e-01, -1.10268019e-01, -2.00630590e-01, -2.67011762e-01,\n",
      "       -1.42378941e-01, -1.51224345e-01, -7.55805075e-02, -1.70636505e-01,\n",
      "       -1.27568603e-01, -5.98526858e-02, -1.27010033e-01, -1.54406935e-01,\n",
      "       -1.26762167e-01, -1.48486525e-01, -9.98070091e-02, -1.86582178e-01,\n",
      "       -1.92498073e-01, -1.45360783e-01, -1.09100759e-01, -1.59224257e-01,\n",
      "       -6.87725067e-01, -6.75994754e-01, -9.03897136e-02, -4.26376495e+01,\n",
      "       -2.13195309e-01, -5.76786137e+00, -1.33336946e-01, -1.35151267e-01,\n",
      "       -1.23444431e-01, -1.37524530e-01, -7.40929618e-02, -1.37324512e-01,\n",
      "       -2.29849267e+00, -1.50597125e-01, -1.52522683e-01, -8.31700265e-02,\n",
      "       -1.57707304e-01, -2.45048881e-01, -1.50348857e-01, -1.17263690e-01,\n",
      "       -9.67222080e-02, -1.22460783e-01, -1.16682783e-01, -2.03233212e-01,\n",
      "       -1.13156468e-01, -1.84764788e-01, -1.04172325e+00, -1.40888110e-01,\n",
      "       -3.59915495e-01, -1.34527355e-01, -9.10899520e-01, -7.32914954e-02,\n",
      "       -6.30996302e-02, -1.43013090e-01, -2.50801682e-01, -1.17578730e-01,\n",
      "       -1.52234599e-01, -1.71018302e-01, -4.71654326e-01, -1.81685969e-01,\n",
      "       -9.44453180e-02, -1.38406277e-01, -5.40576354e-02, -2.75320977e-01],\n",
      "      dtype=float32)>, <tf.Variable 'dense_1/kernel:0' shape=(128, 30) dtype=float32, numpy=\n",
      "array([[ 0.0310621 , -0.21064524, -0.02261522, ..., -0.15148523,\n",
      "         0.14863926, -0.01399644],\n",
      "       [ 0.06918818, -0.14204982, -0.00475827, ..., -0.04680998,\n",
      "        -0.02154112,  0.00046952],\n",
      "       [ 0.29144964, -0.21535292,  0.24988274, ...,  0.02043962,\n",
      "        -0.12204158,  0.41154107],\n",
      "       ...,\n",
      "       [-0.00971053,  0.16994606,  0.21715242, ..., -0.07793166,\n",
      "        -0.00175628,  0.06054486],\n",
      "       [ 0.35092947, -0.11562337, -0.26205158, ...,  0.11807132,\n",
      "        -0.2912541 , -0.24189669],\n",
      "       [ 0.20294914, -0.07292059, -0.13126259, ...,  0.26125723,\n",
      "         0.32390612, -0.02349111]], dtype=float32)>, <tf.Variable 'dense_1/bias:0' shape=(30,) dtype=float32, numpy=\n",
      "array([-0.15543951,  0.1415143 ,  0.11927209,  0.05741173, -0.15560977,\n",
      "        0.29037854,  0.19242388, -0.16947185, -0.21222205, -0.15362713,\n",
      "        0.10942172, -0.01893082,  0.16041659, -0.19098864, -0.15574218,\n",
      "        0.24273069,  0.23745999,  0.25079694, -0.15873365,  0.1084604 ,\n",
      "        0.10612196,  0.31464592,  0.123501  ,  0.27956814,  0.11708505,\n",
      "        0.19031964,  0.06992693,  0.04750023, -0.19039904,  0.19444995],\n",
      "      dtype=float32)>]), 'variables': ListWrapper([<tf.Variable 'dense/kernel:0' shape=(30, 128) dtype=float32, numpy=\n",
      "array([[ 0.07477634,  0.14089623, -0.03622787, ..., -0.1746333 ,\n",
      "        -0.12000073,  0.05981628],\n",
      "       [ 0.12392963, -0.02109188, -0.14102471, ...,  0.12555835,\n",
      "        -0.02527853, -0.07115064],\n",
      "       [-0.3155519 , -0.08407029, -0.00849117, ..., -0.04468258,\n",
      "        -0.02094026, -0.09647296],\n",
      "       ...,\n",
      "       [-0.04900032,  0.0977295 ,  0.2340695 , ..., -0.19745143,\n",
      "        -0.15297383, -0.05418069],\n",
      "       [-0.2009259 ,  0.04994413,  0.11356288, ...,  0.12637825,\n",
      "        -0.08101673, -0.00578481],\n",
      "       [-0.14507163,  0.05545254, -0.38240507, ..., -0.00835562,\n",
      "         0.33261234, -0.00491398]], dtype=float32)>, <tf.Variable 'dense/bias:0' shape=(128,) dtype=float32, numpy=\n",
      "array([-1.59593716e-01, -1.89482659e-01, -1.55627802e-01, -1.86286986e-01,\n",
      "       -1.00578919e-01, -1.32960796e-01, -1.07325330e-01, -2.14248642e-01,\n",
      "        2.85570938e-02, -1.20163962e-01, -1.66222215e-01, -1.37248695e-01,\n",
      "       -1.06953196e-01, -1.08853951e-01, -3.18490326e-01, -5.23090065e-01,\n",
      "       -1.57533318e-01, -1.17847778e-01, -1.66764677e-01, -1.67983130e-01,\n",
      "       -4.01661575e-01, -1.12747848e-01, -1.14861056e-01, -1.00579284e-01,\n",
      "       -1.32288158e-01, -3.35286570e+00, -8.52221069e+01, -1.08439215e-01,\n",
      "       -1.64691657e-01, -1.09291606e-01, -1.33459017e-01, -7.97978938e-02,\n",
      "       -1.31143004e-01, -1.26827493e-01, -1.25229105e-01, -1.15126026e+00,\n",
      "       -1.14107355e-01, -1.07188284e-01, -1.58924952e-01, -1.30704582e-01,\n",
      "       -1.49758667e-01, -1.60235643e-01, -1.03860863e-01, -1.42708659e-01,\n",
      "       -8.25520232e-02, -1.67472810e-01, -1.17390662e-01, -1.40783444e-01,\n",
      "       -1.63790464e-01, -1.32025376e-01, -1.60858929e-01, -1.14670977e-01,\n",
      "       -1.37409359e-01, -1.49493709e-01, -1.39846504e-01, -1.45034760e-01,\n",
      "       -1.28653795e-01, -1.38298526e-01, -1.35048613e-01, -2.60419279e-01,\n",
      "       -1.08573586e-01, -2.12122530e-01, -1.77988112e-01, -1.65866181e-01,\n",
      "       -1.54556900e-01, -1.10268019e-01, -2.00630590e-01, -2.67011762e-01,\n",
      "       -1.42378941e-01, -1.51224345e-01, -7.55805075e-02, -1.70636505e-01,\n",
      "       -1.27568603e-01, -5.98526858e-02, -1.27010033e-01, -1.54406935e-01,\n",
      "       -1.26762167e-01, -1.48486525e-01, -9.98070091e-02, -1.86582178e-01,\n",
      "       -1.92498073e-01, -1.45360783e-01, -1.09100759e-01, -1.59224257e-01,\n",
      "       -6.87725067e-01, -6.75994754e-01, -9.03897136e-02, -4.26376495e+01,\n",
      "       -2.13195309e-01, -5.76786137e+00, -1.33336946e-01, -1.35151267e-01,\n",
      "       -1.23444431e-01, -1.37524530e-01, -7.40929618e-02, -1.37324512e-01,\n",
      "       -2.29849267e+00, -1.50597125e-01, -1.52522683e-01, -8.31700265e-02,\n",
      "       -1.57707304e-01, -2.45048881e-01, -1.50348857e-01, -1.17263690e-01,\n",
      "       -9.67222080e-02, -1.22460783e-01, -1.16682783e-01, -2.03233212e-01,\n",
      "       -1.13156468e-01, -1.84764788e-01, -1.04172325e+00, -1.40888110e-01,\n",
      "       -3.59915495e-01, -1.34527355e-01, -9.10899520e-01, -7.32914954e-02,\n",
      "       -6.30996302e-02, -1.43013090e-01, -2.50801682e-01, -1.17578730e-01,\n",
      "       -1.52234599e-01, -1.71018302e-01, -4.71654326e-01, -1.81685969e-01,\n",
      "       -9.44453180e-02, -1.38406277e-01, -5.40576354e-02, -2.75320977e-01],\n",
      "      dtype=float32)>, <tf.Variable 'dense_1/kernel:0' shape=(128, 30) dtype=float32, numpy=\n",
      "array([[ 0.0310621 , -0.21064524, -0.02261522, ..., -0.15148523,\n",
      "         0.14863926, -0.01399644],\n",
      "       [ 0.06918818, -0.14204982, -0.00475827, ..., -0.04680998,\n",
      "        -0.02154112,  0.00046952],\n",
      "       [ 0.29144964, -0.21535292,  0.24988274, ...,  0.02043962,\n",
      "        -0.12204158,  0.41154107],\n",
      "       ...,\n",
      "       [-0.00971053,  0.16994606,  0.21715242, ..., -0.07793166,\n",
      "        -0.00175628,  0.06054486],\n",
      "       [ 0.35092947, -0.11562337, -0.26205158, ...,  0.11807132,\n",
      "        -0.2912541 , -0.24189669],\n",
      "       [ 0.20294914, -0.07292059, -0.13126259, ...,  0.26125723,\n",
      "         0.32390612, -0.02349111]], dtype=float32)>, <tf.Variable 'dense_1/bias:0' shape=(30,) dtype=float32, numpy=\n",
      "array([-0.15543951,  0.1415143 ,  0.11927209,  0.05741173, -0.15560977,\n",
      "        0.29037854,  0.19242388, -0.16947185, -0.21222205, -0.15362713,\n",
      "        0.10942172, -0.01893082,  0.16041659, -0.19098864, -0.15574218,\n",
      "        0.24273069,  0.23745999,  0.25079694, -0.15873365,  0.1084604 ,\n",
      "        0.10612196,  0.31464592,  0.123501  ,  0.27956814,  0.11708505,\n",
      "        0.19031964,  0.06992693,  0.04750023, -0.19039904,  0.19444995],\n",
      "      dtype=float32)>]), 'keras_api': <tensorflow.python.saved_model.load.Loader._recreate_base_user_object.<locals>._UserObject object at 0x7f86610ccf60>, 'call_and_return_all_conditional_losses': <tensorflow.python.saved_model.function_deserialization.RestoredFunction object at 0x7f869026f518>, '__call__': <tensorflow.python.saved_model.function_deserialization.RestoredFunction object at 0x7f869026fb00>, '_default_save_signature': <tensorflow.python.saved_model.function_deserialization.RestoredFunction object at 0x7f869026fbe0>}, '_self_saveable_object_factories': DictWrapper({}), '_nested_inputs': <tf.Tensor 'dense_input_1:0' shape=(None, 30) dtype=float32>, '_nested_outputs': <tf.Tensor 'dense_1/BiasAdd_1:0' shape=(None, 30) dtype=float32>, '_enable_dict_to_input_mapping': True, '_input_layers': [<tensorflow.python.keras.engine.input_layer.InputLayer object at 0x7f869028b668>], '_output_layers': [<tensorflow.python.keras.layers.core.Dense object at 0x7f86610cceb8>], '_input_coordinates': [(<tensorflow.python.keras.engine.input_layer.InputLayer object at 0x7f869028b668>, 0, 0)], '_output_coordinates': [(<tensorflow.python.keras.layers.core.Dense object at 0x7f86610cceb8>, 0, 0)], '_output_mask_cache': {}, '_output_tensor_cache': {}, '_output_shape_cache': {}, '_network_nodes': {'dense_input_ib-0', 'dense_ib-0', 'activation_ib-0', 'dense_1_ib-0'}, '_nodes_by_depth': defaultdict(<class 'list'>, {0: [<tensorflow.python.keras.engine.node.Node object at 0x7f864279b6a0>], 1: [<tensorflow.python.keras.engine.node.Node object at 0x7f864279b2b0>], 2: [<tensorflow.python.keras.engine.node.Node object at 0x7f864279b4a8>], 3: [<tensorflow.python.keras.engine.node.Node object at 0x7f864279b550>]}), '_feed_input_names': ['dense_input'], '_feed_inputs': [<tf.Tensor 'dense_input_1:0' shape=(None, 30) dtype=float32>], '_feed_input_shapes': [(None, 30)], '_tensor_usage_count': Counter({'140214617616680': 1, '140214617620040': 1, '140214617619816': 1, '140214617658984': 1}), 'signatures': _SignatureMap({'serving_default': <ConcreteFunction signature_wrapper(dense_input) at 0x7F86610DA6D8>}), '_self_update_uid': 1098, 'graph_debug_info': , 'tensorflow_version': '2.5.0', 'tensorflow_git_version': 'v2.5.0-rc3-213-ga4dfb8d1a71', '_run_eagerly': None, 'optimizer': <tensorflow.python.keras.optimizer_v2.rmsprop.RMSprop object at 0x7f8671bfdc88>, 'compiled_loss': <tensorflow.python.keras.engine.compile_utils.LossesContainer object at 0x7f86610c3710>, 'compiled_metrics': <tensorflow.python.keras.engine.compile_utils.MetricsContainer object at 0x7f8690264278>, '_is_compiled': True, 'loss': <function mean_squared_error at 0x7f86388d5950>}\n"
     ]
    }
   ],
   "source": [
    "print(predictionModel.__dict__)"
   ]
  },
  {
   "cell_type": "code",
   "execution_count": 42,
   "metadata": {},
   "outputs": [
    {
     "name": "stdout",
     "output_type": "stream",
     "text": [
      "49\n",
      "49\n",
      "(49, 19)\n",
      "(49, 2)\n"
     ]
    }
   ],
   "source": [
    "print(len(testData))\n",
    "print(len(testDataAns))\n",
    "print(np.array(testData).shape)\n",
    "print(np.array(testDataAns).shape)"
   ]
  },
  {
   "cell_type": "code",
   "execution_count": 43,
   "metadata": {},
   "outputs": [],
   "source": [
    "\n",
    "#全部の分散表現を得る\n",
    "\n",
    "def distributedRepresentation(AllContexts,AllComments):\n",
    "    contexts2Vec=[]\n",
    "    comments2Vec=[]\n",
    "    seq2Vec = []\n",
    "    \n",
    "    #ここでコンテキストの各単語の分散表現を得ている\n",
    "    for i in range(len(AllContexts)):\n",
    "        temp_ary = []\n",
    "        for j in range(len(AllContexts[i])):\n",
    "            temp_ary.append(np.array(context2VecModel.wv[AllContexts[i][j]]))\n",
    "        temp_ary = np.array(temp_ary)\n",
    "        contexts2Vec.append(temp_ary)\n",
    "    print(len(contexts2Vec))\n",
    "    \n",
    "    #ここで各単語の分散表現を用いて文の分散表現を得ている\n",
    "    for i in range(len(contexts2Vec)):\n",
    "        print(i)\n",
    "        seqVec = context2SeqModel.predict(np.array([contexts2Vec[i][:maxLen]]),verbose=2)[0]\n",
    "        seq2Vec.append(np.array(seqVec))\n",
    "        \n",
    "    #ここでコメントの分散表現を得る\n",
    "    comment2VecModel = Doc2Vec(documents=AllComments, vector_size=15,min_count=5,window=5,epochs=20,dm=0)\n",
    "    for i in range(len(seq2Vec)):\n",
    "        comments2Vec.append(comment2VecModel.docvecs[i])\n",
    "    \n",
    "    #ここでpredictionするモデルをする\n",
    "    \n",
    "    return seq2Vec, comments2Vec, comment2VecModel\n",
    "    \n"
   ]
  },
  {
   "cell_type": "code",
   "execution_count": 44,
   "metadata": {},
   "outputs": [
    {
     "name": "stdout",
     "output_type": "stream",
     "text": [
      "49\n",
      "0\n",
      "1/1 - 0s\n",
      "1\n",
      "1/1 - 0s\n",
      "2\n",
      "1/1 - 0s\n",
      "3\n",
      "1/1 - 0s\n",
      "4\n",
      "1/1 - 0s\n",
      "5\n",
      "1/1 - 0s\n",
      "6\n",
      "1/1 - 0s\n",
      "7\n",
      "1/1 - 0s\n",
      "8\n",
      "1/1 - 0s\n",
      "9\n",
      "1/1 - 0s\n",
      "10\n",
      "1/1 - 0s\n",
      "11\n",
      "1/1 - 0s\n",
      "12\n",
      "1/1 - 0s\n",
      "13\n",
      "1/1 - 0s\n",
      "14\n",
      "1/1 - 0s\n",
      "15\n",
      "1/1 - 0s\n",
      "16\n",
      "1/1 - 0s\n",
      "17\n",
      "1/1 - 0s\n",
      "18\n",
      "1/1 - 0s\n",
      "19\n",
      "1/1 - 0s\n",
      "20\n",
      "1/1 - 0s\n",
      "21\n",
      "1/1 - 0s\n",
      "22\n",
      "1/1 - 0s\n",
      "23\n",
      "1/1 - 0s\n",
      "24\n",
      "1/1 - 0s\n",
      "25\n",
      "1/1 - 0s\n",
      "26\n",
      "1/1 - 0s\n",
      "27\n",
      "1/1 - 0s\n",
      "28\n",
      "1/1 - 0s\n",
      "29\n",
      "1/1 - 0s\n",
      "30\n",
      "1/1 - 0s\n",
      "31\n",
      "1/1 - 0s\n",
      "32\n",
      "1/1 - 0s\n",
      "33\n",
      "1/1 - 0s\n",
      "34\n",
      "1/1 - 0s\n",
      "35\n",
      "1/1 - 0s\n",
      "36\n",
      "1/1 - 0s\n",
      "37\n",
      "1/1 - 0s\n",
      "38\n",
      "1/1 - 0s\n",
      "39\n",
      "1/1 - 0s\n",
      "40\n",
      "1/1 - 0s\n",
      "41\n",
      "1/1 - 0s\n",
      "42\n",
      "1/1 - 0s\n",
      "43\n",
      "1/1 - 0s\n",
      "44\n",
      "1/1 - 0s\n",
      "45\n",
      "1/1 - 0s\n",
      "46\n",
      "1/1 - 0s\n",
      "47\n",
      "1/1 - 0s\n",
      "48\n",
      "1/1 - 0s\n"
     ]
    }
   ],
   "source": [
    "seq2VecAns, comments2VecAns, comment2VecModelAns = distributedRepresentation(testData,testDataAns)"
   ]
  },
  {
   "cell_type": "code",
   "execution_count": 45,
   "metadata": {},
   "outputs": [
    {
     "data": {
      "text/plain": [
       "array([-1.3342109 ,  0.17245089, -0.6987581 , -2.9237804 ,  1.8214276 ,\n",
       "        0.3338277 , -0.04772862,  0.8789369 ,  2.3114316 , -2.5643578 ,\n",
       "       -2.1370618 ,  1.0601604 , -3.4233077 , -2.6237285 ,  1.26362   ,\n",
       "        0.5076294 ,  0.43313497,  4.1343055 ,  1.6192503 , -0.4854543 ,\n",
       "       -1.4932156 , -0.19456454, -0.5381452 , -1.0571866 ,  0.08779773,\n",
       "        2.4462073 ,  1.39535   ,  0.7677052 , -0.6336559 , -0.73793954],\n",
       "      dtype=float32)"
      ]
     },
     "execution_count": 45,
     "metadata": {},
     "output_type": "execute_result"
    }
   ],
   "source": [
    "context2VecModel.wv[\"if\"]"
   ]
  },
  {
   "cell_type": "code",
   "execution_count": 46,
   "metadata": {},
   "outputs": [
    {
     "name": "stdout",
     "output_type": "stream",
     "text": [
      "(49, 30)\n",
      "(49, 15)\n"
     ]
    }
   ],
   "source": [
    "print(np.array(seq2VecAns).shape)\n",
    "print(np.array(comments2VecAns).shape)"
   ]
  },
  {
   "cell_type": "code",
   "execution_count": 47,
   "metadata": {},
   "outputs": [],
   "source": [
    "predictions = predictionModel.predict(np.array(seq2VecAns),batch_size=128)"
   ]
  },
  {
   "cell_type": "code",
   "execution_count": 48,
   "metadata": {},
   "outputs": [
    {
     "name": "stdout",
     "output_type": "stream",
     "text": [
      "49\n",
      "[-0.15543951  0.1415143   0.11927209  0.05741173 -0.15560977  0.29037854\n",
      "  0.19242388 -0.16947185 -0.21222205 -0.15362713  0.10942172 -0.01893082\n",
      "  0.16041659 -0.19098864 -0.15574218  0.24273069  0.23745999  0.25079694\n",
      " -0.15873365  0.1084604   0.10612196  0.31464592  0.123501    0.27956814\n",
      "  0.11708505  0.19031964  0.06992693  0.04750023 -0.19039904  0.19444995]\n"
     ]
    }
   ],
   "source": [
    "print(len(predictions))\n",
    "print(predictions[0])"
   ]
  },
  {
   "cell_type": "code",
   "execution_count": 51,
   "metadata": {},
   "outputs": [
    {
     "name": "stdout",
     "output_type": "stream",
     "text": [
      "[-0.14868934 -0.08465794  0.09190137 -0.01353424 -0.31690845  0.17415126\n",
      "  0.10606049  0.17914826 -0.07863992  0.01682345  0.01169017  0.10625198\n",
      "  0.20009005 -0.0842462   0.21384165 -0.20627783 -0.00624541  0.08933152\n",
      "  0.2922954   0.1635617  -0.19888738  0.09782895  0.23663068  0.09092393\n",
      "  0.1889024  -0.10144687 -0.07858437 -0.07050477 -0.09257706 -0.01705437]\n"
     ]
    },
    {
     "data": {
      "text/plain": [
       "[(176152, 0.9834058284759521),\n",
       " (6803, 0.9787476658821106),\n",
       " (51132, 0.9773884415626526),\n",
       " (310095, 0.975423276424408),\n",
       " (76626, 0.9752053022384644),\n",
       " (310767, 0.9746469855308533),\n",
       " (195464, 0.9736117720603943),\n",
       " (69946, 0.9726914167404175),\n",
       " (269751, 0.9724454879760742),\n",
       " (348486, 0.972417414188385)]"
      ]
     },
     "execution_count": 51,
     "metadata": {},
     "output_type": "execute_result"
    }
   ],
   "source": [
    "print(comment2VecModel.docvecs[0])\n",
    "comment2VecModel.docvecs.most_similar(0)"
   ]
  },
  {
   "cell_type": "code",
   "execution_count": 52,
   "metadata": {},
   "outputs": [
    {
     "data": {
      "text/plain": [
       "{'vectors': array([], shape=(0, 30), dtype=float64),\n",
       " 'vocab': {},\n",
       " 'vector_size': 30,\n",
       " 'offset2doctag': [],\n",
       " 'doctags': {},\n",
       " 'max_rawint': 390416,\n",
       " 'count': 390417,\n",
       " 'mapfile_path': None,\n",
       " 'vectors_docs_norm': array([[-1.82349369e-01, -1.03822641e-01,  1.12705834e-01, ...,\n",
       "         -8.64655077e-02, -1.13534480e-01, -2.09151115e-02],\n",
       "        [ 1.67161841e-02, -8.60683545e-02, -7.86724687e-02, ...,\n",
       "         -3.14226836e-01, -4.08223569e-01,  3.04553926e-01],\n",
       "        [-1.83010727e-01, -1.05653234e-01,  1.99078619e-01, ...,\n",
       "          1.14437535e-01, -6.26554549e-01, -2.52258294e-04],\n",
       "        ...,\n",
       "        [-2.24501967e-01, -6.77460879e-02,  5.49420901e-02, ...,\n",
       "          1.09152757e-01, -1.89459890e-01, -4.97081950e-02],\n",
       "        [-2.13337317e-01, -2.40224048e-01, -4.41270359e-02, ...,\n",
       "          9.61566269e-02, -4.82666403e-01, -1.77703634e-01],\n",
       "        [-2.40856409e-01, -9.04069021e-02,  3.53296809e-02, ...,\n",
       "          1.73511386e-01, -1.76564634e-01,  9.25698876e-03]], dtype=float32),\n",
       " '__numpys': ['vectors_docs'],\n",
       " '__scipys': [],\n",
       " '__ignoreds': [],\n",
       " '__recursive_saveloads': [],\n",
       " 'vectors_docs': array([[-1.4868934e-01, -8.4657937e-02,  9.1901369e-02, ...,\n",
       "         -7.0504770e-02, -9.2577055e-02, -1.7054373e-02],\n",
       "        [ 3.8794491e-02, -1.9974522e-01, -1.8258105e-01, ...,\n",
       "         -7.2924954e-01, -9.4739479e-01,  7.0680094e-01],\n",
       "        [-2.0782354e-01, -1.1997783e-01,  2.2606994e-01, ...,\n",
       "          1.2995312e-01, -7.1150362e-01, -2.8645981e-04],\n",
       "        ...,\n",
       "        [-2.8894955e-01, -8.7193899e-02,  7.0714265e-02, ...,\n",
       "          1.4048713e-01, -2.4384797e-01, -6.3977882e-02],\n",
       "        [-3.3231500e-01, -3.7419638e-01, -6.8736568e-02, ...,\n",
       "          1.4978293e-01, -7.5184822e-01, -2.7680850e-01],\n",
       "        [-3.0505392e-01, -1.1450382e-01,  4.4746399e-02, ...,\n",
       "          2.1975885e-01, -2.2362591e-01,  1.1724332e-02]], dtype=float32)}"
      ]
     },
     "execution_count": 52,
     "metadata": {},
     "output_type": "execute_result"
    }
   ],
   "source": [
    "comment2VecModel.docvecs.__dict__"
   ]
  },
  {
   "cell_type": "code",
   "execution_count": 56,
   "metadata": {},
   "outputs": [],
   "source": [
    "prediction_index = 40"
   ]
  },
  {
   "cell_type": "code",
   "execution_count": 57,
   "metadata": {},
   "outputs": [],
   "source": [
    "def cosine_norm(model,ary,limit=10):\n",
    "    temp_ary = []\n",
    "    i = 0\n",
    "    for v in model.docvecs.vectors_docs:\n",
    "        distance = np.dot(v,ary)/(np.linalg.norm(v) * np.linalg.norm(ary))\n",
    "        temp_ary.append([distance,i])\n",
    "        i+=1\n",
    "    temp_ary = sorted(temp_ary)\n",
    "    temp_ary.reverse()\n",
    "    return temp_ary[0:limit]"
   ]
  },
  {
   "cell_type": "code",
   "execution_count": 58,
   "metadata": {},
   "outputs": [],
   "source": [
    "results = cosine_norm(comment2VecModel,predictions[prediction_index],10)"
   ]
  },
  {
   "cell_type": "code",
   "execution_count": 59,
   "metadata": {},
   "outputs": [
    {
     "name": "stdout",
     "output_type": "stream",
     "text": [
      "[[0.66829973, 232278], [0.6638895, 321792], [0.6616788, 232251], [0.6597273, 33617], [0.6506997, 111838], [0.6465461, 142675], [0.641502, 254374], [0.6385877, 28235], [0.6364629, 81886], [0.62815785, 244311]]\n"
     ]
    }
   ],
   "source": [
    "print(results)"
   ]
  },
  {
   "cell_type": "code",
   "execution_count": 67,
   "metadata": {},
   "outputs": [
    {
     "name": "stdout",
     "output_type": "stream",
     "text": [
      "[232278, 321792, 232251, 33617, 111838, 142675, 254374, 28235, 81886, 244311]\n",
      "10\n"
     ]
    }
   ],
   "source": [
    "results_index = []\n",
    "for result in results:\n",
    "    results_index.append(result[1])\n",
    "print(results_index)\n",
    "print(len(results_index))"
   ]
  },
  {
   "cell_type": "code",
   "execution_count": 61,
   "metadata": {},
   "outputs": [
    {
     "name": "stdout",
     "output_type": "stream",
     "text": [
      "[0. 0. 0. 0. 0. 0. 0. 0. 0. 0. 0. 0. 0. 0. 1. 0. 0. 0. 0. 0. 0. 0. 0. 0.\n",
      " 0. 0. 0. 0. 0. 0.]\n"
     ]
    }
   ],
   "source": [
    "print(seq2VecAns[prediction_index])"
   ]
  },
  {
   "cell_type": "code",
   "execution_count": 62,
   "metadata": {},
   "outputs": [
    {
     "name": "stdout",
     "output_type": "stream",
     "text": [
      "['def', 'UNK', 'on_op', 'UNK', 'end', 'UNK', 'UNK', 'on_symbeg', 'webpacker', 'def', 'UNK', 'UNK', 'on_period', 'UNK', 'UNK', 'UNK', 'on_period', 'UNK', 'on_op']\n"
     ]
    }
   ],
   "source": [
    "print(testData[prediction_index])"
   ]
  },
  {
   "cell_type": "code",
   "execution_count": 63,
   "metadata": {},
   "outputs": [
    {
     "name": "stdout",
     "output_type": "stream",
     "text": [
      "TaggedDocument(['#', 'Returns', 'true', 'if', 'the', 'compiled', 'packs', 'are', 'out', 'of', 'date', 'with', 'the', 'underlying', 'asset', 'files', '.'], [48911])\n"
     ]
    }
   ],
   "source": [
    "print(testDataAns[prediction_index])"
   ]
  },
  {
   "cell_type": "code",
   "execution_count": 64,
   "metadata": {},
   "outputs": [
    {
     "name": "stdout",
     "output_type": "stream",
     "text": [
      "48920\n",
      "48920\n"
     ]
    }
   ],
   "source": [
    "print(len(contexts))\n",
    "print(len(comments))"
   ]
  },
  {
   "cell_type": "code",
   "execution_count": 69,
   "metadata": {},
   "outputs": [
    {
     "name": "stdout",
     "output_type": "stream",
     "text": [
      "\n",
      "232278\n",
      "=======================\n"
     ]
    },
    {
     "ename": "IndexError",
     "evalue": "list index out of range",
     "output_type": "error",
     "traceback": [
      "\u001b[0;31m---------------------------------------------------------------------------\u001b[0m",
      "\u001b[0;31mIndexError\u001b[0m                                Traceback (most recent call last)",
      "\u001b[0;32m<ipython-input-69-af95bb873397>\u001b[0m in \u001b[0;36m<module>\u001b[0;34m\u001b[0m\n\u001b[1;32m      3\u001b[0m     \u001b[0mprint\u001b[0m\u001b[0;34m(\u001b[0m\u001b[0mindex\u001b[0m\u001b[0;34m)\u001b[0m\u001b[0;34m\u001b[0m\u001b[0;34m\u001b[0m\u001b[0m\n\u001b[1;32m      4\u001b[0m     \u001b[0mprint\u001b[0m\u001b[0;34m(\u001b[0m\u001b[0;34m'======================='\u001b[0m\u001b[0;34m)\u001b[0m\u001b[0;34m\u001b[0m\u001b[0;34m\u001b[0m\u001b[0m\n\u001b[0;32m----> 5\u001b[0;31m     \u001b[0mprint\u001b[0m\u001b[0;34m(\u001b[0m\u001b[0mcontexts\u001b[0m\u001b[0;34m[\u001b[0m\u001b[0mindex\u001b[0m\u001b[0;34m]\u001b[0m\u001b[0;34m)\u001b[0m\u001b[0;34m\u001b[0m\u001b[0;34m\u001b[0m\u001b[0m\n\u001b[0m\u001b[1;32m      6\u001b[0m     \u001b[0mprint\u001b[0m\u001b[0;34m(\u001b[0m\u001b[0mcomments\u001b[0m\u001b[0;34m[\u001b[0m\u001b[0mindex\u001b[0m\u001b[0;34m]\u001b[0m\u001b[0;34m)\u001b[0m\u001b[0;34m\u001b[0m\u001b[0;34m\u001b[0m\u001b[0m\n\u001b[1;32m      7\u001b[0m     \u001b[0mprint\u001b[0m\u001b[0;34m(\u001b[0m\u001b[0;34m)\u001b[0m\u001b[0;34m\u001b[0m\u001b[0;34m\u001b[0m\u001b[0m\n",
      "\u001b[0;31mIndexError\u001b[0m: list index out of range"
     ]
    }
   ],
   "source": [
    "for index in results_index:\n",
    "    print()\n",
    "    print(index)\n",
    "    print('=======================')\n",
    "    print(contexts[index])\n",
    "    print(comments[index])\n",
    "    print()"
   ]
  },
  {
   "cell_type": "code",
   "execution_count": null,
   "metadata": {},
   "outputs": [],
   "source": []
  }
 ],
 "metadata": {
  "kernelspec": {
   "display_name": "Python 3",
   "language": "python",
   "name": "python3"
  },
  "language_info": {
   "codemirror_mode": {
    "name": "ipython",
    "version": 3
   },
   "file_extension": ".py",
   "mimetype": "text/x-python",
   "name": "python",
   "nbconvert_exporter": "python",
   "pygments_lexer": "ipython3",
   "version": "3.6.10"
  }
 },
 "nbformat": 4,
 "nbformat_minor": 4
}
