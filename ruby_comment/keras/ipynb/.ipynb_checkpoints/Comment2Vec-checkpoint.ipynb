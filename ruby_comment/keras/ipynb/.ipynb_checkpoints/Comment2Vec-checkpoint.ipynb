{
 "cells": [
  {
   "cell_type": "code",
   "execution_count": 2,
   "metadata": {},
   "outputs": [
    {
     "name": "stderr",
     "output_type": "stream",
     "text": [
      "Using TensorFlow backend.\n",
      "[nltk_data] Downloading package punkt to /Users/makoto/nltk_data...\n",
      "[nltk_data]   Package punkt is already up-to-date!\n"
     ]
    }
   ],
   "source": [
    "from gensim.models import Word2Vec\n",
    "from tensorflow import keras\n",
    "import tensorflow as tf\n",
    "from keras.models import load_model\n",
    "import time\n",
    "import glob\n",
    "import os\n",
    "import os.path\n",
    "import random\n",
    "import sys\n",
    "import numpy as np\n",
    "import nltk\n",
    "nltk.download('punkt')\n",
    "\n",
    "from gensim.test.utils import common_texts\n",
    "from gensim.models.doc2vec import Doc2Vec, TaggedDocument\n",
    "\n",
    "from keras.models import Sequential\n",
    "from keras.layers import Dense, Activation, LSTM\n",
    "from keras.optimizers import RMSprop\n",
    "\n",
    "sys.path.append('..')\n",
    "sys.path.append('../..')"
   ]
  },
  {
   "cell_type": "code",
   "execution_count": 3,
   "metadata": {},
   "outputs": [
    {
     "name": "stdout",
     "output_type": "stream",
     "text": [
      "[]\n"
     ]
    }
   ],
   "source": [
    "file = glob.glob(\"../src/repositories2TokenWithComment/all.txt\")\n",
    "print(file)"
   ]
  },
  {
   "cell_type": "code",
   "execution_count": null,
   "metadata": {},
   "outputs": [],
   "source": [
    "tokenSize=20"
   ]
  },
  {
   "cell_type": "code",
   "execution_count": 69,
   "metadata": {},
   "outputs": [],
   "source": [
    "comments = []\n",
    "contexts = []\n",
    "f = open(file[0])\n",
    "lines = f.readlines()\n",
    "\n",
    "i=0\n",
    "for line in lines:\n",
    "    temp_data = line.replace(\"\\n\",\"\")\n",
    "    temp_context = temp_data.split(' ')[0:tokenSize]\n",
    "    temp_comment = \" \".join(temp_data.split(' ')[tokenSize:])\n",
    "    morph = nltk.word_tokenize(temp_comment)\n",
    "    contexts.append(temp_context)\n",
    "    comments.append(TaggedDocument(morph,[i]))\n",
    "    i += 1\n",
    "f.close()\n"
   ]
  },
  {
   "cell_type": "code",
   "execution_count": 70,
   "metadata": {},
   "outputs": [
    {
     "name": "stdout",
     "output_type": "stream",
     "text": [
      "50370\n",
      "50370\n",
      "['on_ignored_nl', 'require', 'on_tstring_beg', 'on_tstring_content', 'on_tstring_end', 'on_nl', 'require', 'on_tstring_beg', 'on_tstring_content', 'on_tstring_end', 'on_nl', 'require', 'on_tstring_beg', 'on_tstring_content', 'on_tstring_end', 'on_nl', 'require', 'on_tstring_beg', 'on_tstring_content', 'on_tstring_end']\n",
      "TaggedDocument(['#', '!', '/usr/bin/env', 'ruby', '#', '--', '#', 'Copyright', '2004', 'Austin', 'Ziegler', '<', 'ruby-install', '@', 'halostatue.ca', '>', '#', 'Install', 'utility', '.', 'Based', 'on', 'the', 'original', 'installation', 'script', 'for', 'rdoc', 'by', 'the', '#', 'Pragmatic', 'Programmers', '.', '#', '#', 'This', 'program', 'is', 'free', 'software', '.', 'It', 'may', 'be', 'redistributed', 'and/or', 'modified', 'under', '#', 'the', 'terms', 'of', 'the', 'GPL', 'version', '2', '(', 'or', 'later', ')', 'or', 'the', 'Ruby', 'licence', '.', '#', '#', 'Usage', '#', '--', '--', '-', '#', 'In', 'most', 'cases', ',', 'if', 'you', 'have', 'a', 'typical', 'project', 'layout', ',', 'you', 'will', 'need', 'to', 'do', '#', 'absolutely', 'nothing', 'to', 'make', 'this', 'work', 'for', 'you', '.', 'This', 'layout', 'is', ':', '#', '#', 'bin/', '#', 'executable', 'files', '--', '``', 'commands', \"''\", '#', 'lib/', '#', 'the', 'source', 'of', 'the', 'library', '#', '#', 'The', 'default', 'behaviour', ':', '#', '1', ')', 'Build', 'Rdoc', 'documentation', 'from', 'all', 'files', 'in', 'bin/', '(', 'excluding', '.bat', 'and', '.cmd', ')', ',', '#', 'all', '.rb', 'files', 'in', 'lib/', ',', './README', ',', './ChangeLog', ',', 'and', './Install', '.', '#', '2', ')', 'Build', 'ri', 'documentation', 'from', 'all', 'files', 'in', 'bin/', '(', 'excluding', '.bat', 'and', '.cmd', ')', ',', '#', 'and', 'all', '.rb', 'files', 'in', 'lib/', '.', 'This', 'is', 'disabled', 'by', 'default', 'on', 'Microsoft', 'Windows', '.', '#', '3', ')', 'Install', 'commands', 'from', 'bin/', 'into', 'the', 'Ruby', 'bin', 'directory', '.', 'On', 'Windows', ',', 'if', 'a', '#', 'if', 'a', 'corresponding', 'batch', 'file', '(', '.bat', 'or', '.cmd', ')', 'exists', 'in', 'the', 'bin', 'directory', ',', '#', 'it', 'will', 'be', 'copied', 'over', 'as', 'well', '.', 'Otherwise', ',', 'a', 'batch', 'file', '(', 'always', '.bat', ')', 'will', '#', 'be', 'created', 'to', 'run', 'the', 'specified', 'command', '.', '#', '4', ')', 'Install', 'all', 'library', 'files', 'ending', 'in', '.rb', 'from', 'lib/', 'into', 'Ruby', \"'s\", '#', 'site_lib/version', 'directory', '.', '#', '#', '++'], [0])\n"
     ]
    }
   ],
   "source": [
    "print(len(comments))\n",
    "print(len(contexts))\n",
    "\n",
    "print(contexts[0])\n",
    "print(comments[0])"
   ]
  },
  {
   "cell_type": "code",
   "execution_count": 71,
   "metadata": {},
   "outputs": [],
   "source": [
    "model = Doc2Vec(documents=comments, vector_size=15,min_count=5,window=5,epochs=20,dm=0)\n"
   ]
  },
  {
   "cell_type": "code",
   "execution_count": 72,
   "metadata": {},
   "outputs": [
    {
     "name": "stdout",
     "output_type": "stream",
     "text": [
      "TaggedDocument(['#', '!', '/usr/bin/env', 'ruby', '#', '--', '#', 'Copyright', '2004', 'Austin', 'Ziegler', '<', 'ruby-install', '@', 'halostatue.ca', '>', '#', 'Install', 'utility', '.', 'Based', 'on', 'the', 'original', 'installation', 'script', 'for', 'rdoc', 'by', 'the', '#', 'Pragmatic', 'Programmers', '.', '#', '#', 'This', 'program', 'is', 'free', 'software', '.', 'It', 'may', 'be', 'redistributed', 'and/or', 'modified', 'under', '#', 'the', 'terms', 'of', 'the', 'GPL', 'version', '2', '(', 'or', 'later', ')', 'or', 'the', 'Ruby', 'licence', '.', '#', '#', 'Usage', '#', '--', '--', '-', '#', 'In', 'most', 'cases', ',', 'if', 'you', 'have', 'a', 'typical', 'project', 'layout', ',', 'you', 'will', 'need', 'to', 'do', '#', 'absolutely', 'nothing', 'to', 'make', 'this', 'work', 'for', 'you', '.', 'This', 'layout', 'is', ':', '#', '#', 'bin/', '#', 'executable', 'files', '--', '``', 'commands', \"''\", '#', 'lib/', '#', 'the', 'source', 'of', 'the', 'library', '#', '#', 'The', 'default', 'behaviour', ':', '#', '1', ')', 'Build', 'Rdoc', 'documentation', 'from', 'all', 'files', 'in', 'bin/', '(', 'excluding', '.bat', 'and', '.cmd', ')', ',', '#', 'all', '.rb', 'files', 'in', 'lib/', ',', './README', ',', './ChangeLog', ',', 'and', './Install', '.', '#', '2', ')', 'Build', 'ri', 'documentation', 'from', 'all', 'files', 'in', 'bin/', '(', 'excluding', '.bat', 'and', '.cmd', ')', ',', '#', 'and', 'all', '.rb', 'files', 'in', 'lib/', '.', 'This', 'is', 'disabled', 'by', 'default', 'on', 'Microsoft', 'Windows', '.', '#', '3', ')', 'Install', 'commands', 'from', 'bin/', 'into', 'the', 'Ruby', 'bin', 'directory', '.', 'On', 'Windows', ',', 'if', 'a', '#', 'if', 'a', 'corresponding', 'batch', 'file', '(', '.bat', 'or', '.cmd', ')', 'exists', 'in', 'the', 'bin', 'directory', ',', '#', 'it', 'will', 'be', 'copied', 'over', 'as', 'well', '.', 'Otherwise', ',', 'a', 'batch', 'file', '(', 'always', '.bat', ')', 'will', '#', 'be', 'created', 'to', 'run', 'the', 'specified', 'command', '.', '#', '4', ')', 'Install', 'all', 'library', 'files', 'ending', 'in', '.rb', 'from', 'lib/', 'into', 'Ruby', \"'s\", '#', 'site_lib/version', 'directory', '.', '#', '#', '++'], [0])\n",
      "[-1.0422336  -0.05025796  0.13709982  0.10420117 -0.39810586  0.2131417\n",
      " -0.4093826   0.16536146  0.09347329 -0.14223628  0.5403217   0.20546255\n",
      " -0.39796686  0.02257597 -0.11297499]\n"
     ]
    }
   ],
   "source": [
    "print(comments[0])\n",
    "print(model.docvecs[0])"
   ]
  },
  {
   "cell_type": "code",
   "execution_count": 73,
   "metadata": {},
   "outputs": [
    {
     "data": {
      "text/plain": [
       "[(26206, 0.9640934467315674),\n",
       " (799, 0.9604628682136536),\n",
       " (39534, 0.9602018594741821),\n",
       " (27314, 0.9583163261413574),\n",
       " (23437, 0.9549365043640137),\n",
       " (26930, 0.9537956714630127),\n",
       " (24520, 0.9536195993423462),\n",
       " (17895, 0.953475296497345),\n",
       " (39103, 0.9524695873260498),\n",
       " (7959, 0.9523539543151855)]"
      ]
     },
     "execution_count": 73,
     "metadata": {},
     "output_type": "execute_result"
    }
   ],
   "source": [
    "# 文章IDが0の文章と似た文章とその内積を得ることが出来る。\n",
    "model.docvecs.most_similar(2)"
   ]
  },
  {
   "cell_type": "code",
   "execution_count": 74,
   "metadata": {},
   "outputs": [
    {
     "name": "stdout",
     "output_type": "stream",
     "text": [
      "TaggedDocument(['#', 'Verify', 'that', 'all', 'of', 'the', 'prereqs', 'are', 'installed'], [2])\n",
      "TaggedDocument(['#', 'Store', 'all', 'that', 'onto', 'the', 'filesystem'], [39185])\n",
      "TaggedDocument(['#', 'Prints', 'a', 'table', 'all', 'the', 'plugins', 'that', 'were', 'loaded'], [39457])\n"
     ]
    }
   ],
   "source": [
    "print(comments[2])\n",
    "print(comments[39185])\n",
    "print(comments[39457])"
   ]
  },
  {
   "cell_type": "code",
   "execution_count": 75,
   "metadata": {},
   "outputs": [],
   "source": [
    "model.save(\"comment2Vec.model\")"
   ]
  },
  {
   "cell_type": "code",
   "execution_count": null,
   "metadata": {},
   "outputs": [],
   "source": []
  },
  {
   "cell_type": "code",
   "execution_count": null,
   "metadata": {},
   "outputs": [],
   "source": []
  }
 ],
 "metadata": {
  "kernelspec": {
   "display_name": "Python 3",
   "language": "python",
   "name": "python3"
  },
  "language_info": {
   "codemirror_mode": {
    "name": "ipython",
    "version": 3
   },
   "file_extension": ".py",
   "mimetype": "text/x-python",
   "name": "python",
   "nbconvert_exporter": "python",
   "pygments_lexer": "ipython3",
   "version": "3.6.10"
  }
 },
 "nbformat": 4,
 "nbformat_minor": 4
}
