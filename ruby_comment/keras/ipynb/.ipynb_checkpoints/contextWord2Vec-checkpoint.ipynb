{
 "cells": [
  {
   "cell_type": "code",
   "execution_count": 157,
   "metadata": {},
   "outputs": [],
   "source": [
    "from gensim.models import Word2Vec\n",
    "from tensorflow import keras\n",
    "import time\n",
    "import glob\n",
    "import os\n",
    "import os.path\n",
    "import random\n",
    "import sys\n",
    "import numpy as np\n",
    "sys.path.append('..')\n",
    "sys.path.append('../..')"
   ]
  },
  {
   "cell_type": "code",
   "execution_count": 158,
   "metadata": {},
   "outputs": [],
   "source": [
    "vecSize=100\n",
    "minCount = 3"
   ]
  },
  {
   "cell_type": "code",
   "execution_count": 159,
   "metadata": {},
   "outputs": [
    {
     "name": "stdout",
     "output_type": "stream",
     "text": [
      "['../../repositories_cleansing/repositories2TokenDownOnly20Tokens/all.txt']\n"
     ]
    }
   ],
   "source": [
    "#学習データのファイル群を取得\n",
    "file = glob.glob(\"../../repositories_cleansing/repositories2TokenDownOnly20Tokens/all.txt\")\n",
    "print(file)"
   ]
  },
  {
   "cell_type": "code",
   "execution_count": 160,
   "metadata": {},
   "outputs": [
    {
     "name": "stdout",
     "output_type": "stream",
     "text": [
      "6571699\n"
     ]
    }
   ],
   "source": [
    "context = []\n",
    "f = open(file[0])\n",
    "lines = f.readlines()\n",
    "for line in lines:\n",
    "    temp_data = line.replace('\\n','')\n",
    "    temp_data = line.split(' ')\n",
    "    for data in temp_data:\n",
    "        context.append(data)\n",
    "f.close()\n",
    "print(len(context))\n",
    "\n"
   ]
  },
  {
   "cell_type": "code",
   "execution_count": 161,
   "metadata": {},
   "outputs": [
    {
     "name": "stdout",
     "output_type": "stream",
     "text": [
      "31561\n",
      "['require', 'on_tstring_beg', 'on_tstring_content', 'on_tstring_end', 'require', 'on_tstring_beg', 'on_tstring_content', 'on_tstring_end', 'require', 'on_tstring_beg', 'on_tstring_content', 'on_tstring_end', 'require', 'on_tstring_beg', 'on_tstring_content', 'on_tstring_end', 'require', 'on_tstring_beg', 'on_tstring_content', 'on_tstring_end', 'require', 'on_tstring_beg', 'on_tstring_content', 'on_tstring_end', 'begin', 'require', 'on_tstring_beg', 'on_tstring_content', 'on_tstring_end', 'on_gvar', 'on_op', 'true', 'rescue', 'loaderror', 'puts', 'on_tstring_beg', 'on_tstring_content', 'on_tstring_end', 'on_gvar', 'on_op', 'false', 'end', 'UNK', 'on_op', 'on_qwords_beg', 'on_tstring_content', 'on_words_sep', 'on_tstring_content', 'on_words_sep', 'on_tstring_content', 'on_words_sep', 'on_tstring_content', 'on_tstring_end', 'min_facter_version', 'on_op', 'UNK', 'installoptions', 'on_op', 'UNK', 'on_period', 'new', 'def', 'glob', 'on_lparen', 'UNK', 'on_rparen', 'g', 'on_op', 'UNK', 'on_period', 'UNK', 'on_lbrace', 'on_op', 'UNK', 'on_op', 'dir', 'on_period', 'glob', 'on_lparen', 'UNK', 'on_rparen', 'on_rbrace', 'g', 'on_period', 'UNK', 'g', 'on_period', 'UNK', 'g', 'end', 'def', 'UNK', 'on_lparen', 'configs', 'on_comma', 'target', 'on_comma', 'strip', 'on_op', 'on_tstring_beg', 'on_tstring_content', 'on_tstring_end', 'on_rparen', 'dir', 'on_period', 'UNK', 'on_lparen', 'target', 'on_rparen', 'unless', 'file', 'on_period', 'directory?', 'target', 'configs', 'on_period', 'each', 'do', 'on_op', 'cf', 'on_op', 'UNK', 'on_op', 'file', 'on_period', 'join', 'on_lparen', 'installoptions', 'on_period', 'config_dir', 'on_comma', 'cf', 'on_period', 'gsub', 'on_lparen', 'on_regexp_beg', 'on_embexpr_beg', 'strip', 'on_embexpr_end', 'on_regexp_end', 'on_comma', 'on_tstring_beg', 'on_tstring_end', 'on_rparen', 'on_rparen', 'fileutils', 'on_period', 'install', 'on_lparen', 'cf', 'on_comma', 'UNK', 'on_comma', 'on_lbrace', 'on_symbeg', 'mode', 'on_op', 'on_int', 'on_comma', 'on_symbeg', 'preserve', 'on_op', 'true', 'on_comma', 'on_symbeg', 'verbose', 'on_op', 'true', 'on_rbrace', 'on_rparen', 'end', 'end', 'def', 'do_bins', 'on_lparen', 'bins', 'on_comma', 'target', 'on_comma', 'strip', 'on_op', 'on_tstring_beg', 'on_tstring_content', 'on_tstring_end', 'on_rparen', 'dir', 'on_period', 'UNK', 'on_lparen', 'target', 'on_rparen', 'unless', 'file', 'on_period', 'directory?', 'target', 'bins', 'on_period', 'each', 'do', 'on_op', 'bf', 'on_op', 'UNK', 'on_op', 'bf', 'on_period', 'gsub', 'on_lparen', 'on_regexp_beg', 'on_embexpr_beg', 'strip', 'on_embexpr_end', 'on_regexp_end', 'on_comma', 'on_tstring_beg', 'on_tstring_end', 'on_rparen', 'UNK', 'on_lparen', 'bf', 'on_comma', 'UNK', 'on_comma', 'target', 'on_rparen', 'end', 'end', 'def', 'UNK', 'on_lparen', 'libs', 'on_comma', 'strip', 'on_op', 'on_tstring_beg', 'on_tstring_content', 'on_tstring_end', 'on_rparen', 'libs', 'on_period', 'each', 'do', 'on_op', 'lf', 'on_op', 'UNK', 'if', 'file', 'on_period', 'directory?', 'lf', 'olf', 'on_op', 'file', 'on_period', 'join', 'on_lparen', 'installoptions', 'on_period', 'UNK', 'on_comma', 'lf', 'on_period', 'UNK', 'on_lparen', 'on_regexp_beg', 'on_tstring_content', 'on_embexpr_beg', 'strip', 'on_embexpr_end', 'on_regexp_end', 'on_comma', 'on_tstring_beg', 'on_tstring_end', 'on_rparen', 'on_rparen', 'op', 'on_op', 'file', 'on_period', 'dirname', 'on_lparen', 'olf', 'on_rparen', 'fileutils', 'on_period', 'makedirs', 'on_lparen', 'op', 'on_comma', 'on_lbrace', 'on_symbeg', 'mode', 'on_op', 'on_int', 'on_comma', 'on_symbeg', 'verbose', 'on_op', 'true', 'on_rbrace', 'on_rparen', 'fileutils', 'on_period', 'chmod', 'on_lparen', 'on_int', 'on_comma', 'op', 'on_rparen', 'fileutils', 'on_period', 'install', 'on_lparen', 'lf', 'on_comma', 'olf', 'on_comma', 'on_lbrace', 'on_symbeg', 'mode', 'on_op', 'on_int', 'on_comma', 'on_symbeg', 'preserve', 'on_op', 'true', 'on_comma', 'on_symbeg', 'verbose', 'on_op', 'true', 'on_rbrace', 'on_rparen', 'end', 'end', 'def', 'UNK', 'on_lparen', 'man', 'on_comma', 'strip', 'on_op', 'on_tstring_beg', 'on_tstring_content', 'on_tstring_end', 'on_rparen', 'man', 'on_period', 'each', 'do', 'on_op', 'mf', 'on_op', 'omf', 'on_op', 'file', 'on_period', 'join', 'on_lparen', 'installoptions', 'on_period', 'UNK', 'on_comma', 'mf', 'on_period', 'gsub', 'on_lparen', 'on_regexp_beg', 'on_embexpr_beg', 'strip', 'on_embexpr_end', 'on_regexp_end', 'on_comma', 'on_tstring_beg', 'on_tstring_end', 'on_rparen', 'on_rparen', 'om', 'on_op', 'file', 'on_period', 'dirname', 'on_lparen', 'omf', 'on_rparen', 'fileutils', 'on_period', 'makedirs', 'on_lparen', 'om', 'on_comma', 'on_lbrace', 'on_symbeg', 'mode', 'on_op', 'on_int', 'on_comma', 'on_symbeg', 'verbose', 'on_op', 'true', 'on_rbrace', 'on_rparen', 'fileutils', 'on_period', 'chmod', 'on_lparen', 'on_int', 'on_comma', 'om', 'on_rparen', 'fileutils', 'on_period', 'install', 'on_lparen', 'mf', 'on_comma', 'omf', 'on_comma', 'on_lbrace', 'on_symbeg', 'mode', 'on_op', 'on_int', 'on_comma', 'on_symbeg', 'preserve', 'on_op', 'true', 'on_comma', 'on_symbeg', 'verbose', 'on_op', 'true', 'on_rbrace', 'on_rparen', 'unless', 'on_gvar', 'on_op', 'on_tstring_beg', 'on_tstring_content', 'on_tstring_end', 'gzip', 'on_op', 'UNK', 'on_tstring_content', 'on_tstring_end', 'gzip', 'on_period', 'UNK', 'UNK', 'on_embexpr_beg', 'gzip', 'on_embexpr_end', 'on_tstring_content', 'on_embexpr_beg', 'omf', 'on_embexpr_end', 'on_tstring_end', 'end', 'end', 'end', 'def', 'UNK', 'on_lparen', 'UNK', 'on_comma', 'strip', 'on_op', 'on_tstring_beg', 'on_tstring_content', 'on_tstring_end', 'on_rparen', 'UNK', 'on_period', 'each', 'do', 'on_op', 'lf', 'on_op', 'UNK', 'if', 'file', 'on_period', 'directory?', 'lf', 'olf', 'on_op', 'file', 'on_period', 'join', 'on_lparen', 'installoptions', 'on_period', 'UNK', 'on_comma', 'lf', 'on_period', 'UNK', 'on_lparen', 'on_regexp_beg', 'on_tstring_content', 'on_embexpr_beg', 'strip', 'on_embexpr_end', 'on_regexp_end', 'on_comma', 'on_tstring_beg', 'on_tstring_end', 'on_rparen', 'on_rparen', 'op', 'on_op', 'file', 'on_period', 'dirname', 'on_lparen', 'olf', 'on_rparen', 'fileutils', 'on_period', 'makedirs', 'on_lparen', 'op', 'on_comma', 'on_lbrace', 'on_symbeg', 'mode', 'on_op', 'on_int', 'on_comma', 'on_symbeg', 'verbose', 'on_op', 'true', 'on_rbrace', 'on_rparen', 'fileutils', 'on_period', 'chmod', 'on_lparen', 'on_int', 'on_comma', 'op', 'on_rparen', 'fileutils', 'on_period', 'install', 'on_lparen', 'lf', 'on_comma', 'olf', 'on_comma', 'on_lbrace', 'on_symbeg', 'mode', 'on_op', 'on_int', 'on_comma', 'on_symbeg', 'preserve', 'on_op', 'true', 'on_comma', 'on_symbeg', 'verbose', 'on_op', 'true', 'on_rbrace', 'on_rparen', 'end', 'end', 'def', 'check_prereqs', 'UNK', 'on_period', 'each', 'on_lbrace', 'on_op', 'pre', 'on_op', 'begin', 'require', 'pre', 'if', 'pre', 'on_op', 'on_tstring_beg', 'on_tstring_content', 'on_tstring_end', 'facter_version', 'on_op', 'UNK', 'on_period', 'version', 'on_period', 'UNK', 'if', 'facter_version', 'on_op', 'min_facter_version', 'puts', 'on_tstring_beg', 'on_tstring_content', 'on_embexpr_beg', 'facter_version', 'on_embexpr_end', 'on_tstring_content', 'on_embexpr_beg', 'min_facter_version', 'on_embexpr_end', 'on_tstring_content', 'on_tstring_end', 'exit', 'on_lparen', 'on_op', 'on_int', 'on_rparen', 'end', 'end', 'rescue', 'loaderror', 'puts', 'on_tstring_beg', 'on_tstring_content', 'on_embexpr_beg', 'pre', 'on_embexpr_end', 'on_tstring_content', 'on_tstring_end', 'exit', 'on_lparen', 'on_op', 'on_int', 'on_rparen', 'end', 'on_rbrace', 'end', 'def', 'UNK', 'installoptions', 'on_period', 'configs', 'on_op', 'true', 'installoptions', 'on_period', 'check_prereqs', 'on_op', 'true', 'installoptions', 'on_period', 'batch_files', 'on_op', 'true', 'if', 'on_gvar', 'installoptions', 'on_period', 'rdoc', 'on_op', 'true', 'installoptions', 'on_period', 'ri', 'on_op', 'true', 'else', 'installoptions', 'on_period', 'rdoc', 'on_op', 'false', 'installoptions', 'on_period', 'ri', 'on_op', 'false', 'end', 'UNK', 'on_period', 'UNK', 'do', 'on_op', 'opts', 'on_op', 'opts', 'on_period', 'UNK', 'on_op', 'on_tstring_beg', 'on_tstring_content', 'on_embexpr_beg', 'file', 'on_period', 'UNK', 'on_lparen', 'on_gvar', 'on_rparen', 'on_embexpr_end', 'on_tstring_content', 'on_tstring_end', 'opts', 'on_period', 'UNK', 'on_tstring_beg', 'on_tstring_end', 'opts', 'on_period', 'on', 'on_lparen', 'on_tstring_beg', 'on_tstring_content', 'on_tstring_end', 'on_comma', 'on_tstring_beg', 'on_tstring_content', 'on_tstring_end', 'on_comma', 'on_tstring_beg', 'on_tstring_content', 'on_tstring_end', 'on_rparen', 'do', 'on_op', 'UNK', 'on_op', 'installoptions', 'on_period', 'rdoc', 'on_op', 'UNK', 'end', 'opts', 'on_period', 'on', 'on_lparen', 'on_tstring_beg', 'on_tstring_content', 'on_tstring_end', 'on_comma', 'on_tstring_beg', 'on_tstring_content', 'on_tstring_end', 'on_comma', 'on_tstring_beg', 'on_tstring_content', 'on_tstring_end', 'on_rparen', 'do', 'on_op', 'UNK', 'on_op', 'installoptions', 'on_period', 'ri', 'on_op', 'UNK', 'end', 'opts', 'on_period', 'on', 'on_lparen', 'on_tstring_beg', 'on_tstring_content', 'on_tstring_end', 'on_comma', 'on_tstring_beg', 'on_tstring_content', 'on_tstring_end', 'on_comma', 'on_tstring_beg', 'on_tstring_content', 'on_tstring_end', 'on_rparen', 'do', 'on_op', 'ontest', 'on_op', 'installoptions', 'on_period', 'UNK', 'on_op', 'ontest', 'UNK', 'on_tstring_beg', 'on_tstring_content', 'on_tstring_end', 'end', 'opts', 'on_period', 'on', 'on_lparen', 'on_tstring_beg', 'on_tstring_content', 'on_tstring_end', 'on_comma', 'on_tstring_beg', 'on_tstring_content', 'on_tstring_end', 'on_comma', 'on_tstring_beg', 'on_tstring_content', 'on_tstring_end', 'on_rparen', 'do', 'on_op', 'ontest', 'on_op', 'installoptions', 'on_period', 'configs', 'on_op', 'ontest', 'end', 'opts', 'on_period', 'on', 'on_lparen', 'on_tstring_beg', 'on_tstring_content', 'on_tstring_end', 'on_comma', 'on_tstring_beg', 'on_tstring_content', 'on_tstring_end', 'on_comma', 'on_tstring_beg', 'on_tstring_content', 'on_tstring_end', 'on_rparen', 'do', 'on_op', 'destdir', 'on_op', 'installoptions', 'on_period', 'destdir', 'on_op', 'destdir', 'end', 'opts', 'on_period', 'on', 'on_lparen', 'on_tstring_beg', 'on_tstring_content', 'on_tstring_end', 'on_comma', 'on_tstring_beg', 'on_tstring_content', 'on_tstring_end', 'on_comma', 'on_tstring_beg', 'on_tstring_content', 'on_tstring_end', 'on_rparen', 'do', 'on_op', 'configdir', 'on_op', 'installoptions', 'on_period', 'configdir', 'on_op', 'configdir', 'end', 'opts', 'on_period', 'on', 'on_lparen', 'on_tstring_beg', 'on_tstring_content', 'on_tstring_end', 'on_comma', 'on_tstring_beg', 'on_tstring_content', 'on_tstring_end', 'on_comma', 'on_tstring_beg', 'on_tstring_content', 'on_tstring_end', 'on_rparen', 'do', 'on_op', 'codedir', 'on_op', 'installoptions', 'on_period', 'codedir', 'on_op', 'codedir', 'end', 'opts', 'on_period', 'on', 'on_lparen', 'on_tstring_beg', 'on_tstring_content', 'on_tstring_end', 'on_comma', 'on_tstring_beg', 'on_tstring_content', 'on_tstring_end', 'on_comma', 'on_tstring_beg', 'on_tstring_content', 'on_tstring_end', 'on_rparen', 'do', 'on_op', 'vardir', 'on_op', 'installoptions', 'on_period', 'vardir', 'on_op', 'vardir', 'end', 'opts', 'on_period', 'on', 'on_lparen', 'on_tstring_beg', 'on_tstring_content', 'on_tstring_end', 'on_comma', 'on_tstring_beg', 'on_tstring_content', 'on_tstring_end', 'on_comma', 'on_tstring_beg', 'on_tstring_content', 'on_tstring_end', 'on_rparen', 'do', 'on_op', 'rundir', 'on_op', 'installoptions', 'on_period', 'rundir', 'on_op', 'rundir', 'end', 'opts', 'on_period', 'on', 'on_lparen', 'on_tstring_beg', 'on_tstring_content', 'on_tstring_end', 'on_comma', 'on_tstring_beg', 'on_tstring_content', 'on_tstring_end', 'on_comma', 'on_tstring_beg', 'on_tstring_content', 'on_tstring_end', 'on_rparen', 'do', 'on_op', 'logdir', 'on_op', 'installoptions', 'on_period', 'logdir', 'on_op', 'logdir', 'end', 'opts', 'on_period', 'on', 'on_lparen', 'on_tstring_beg', 'on_tstring_content', 'on_tstring_end', 'on_comma', 'on_tstring_beg', 'on_tstring_content', 'on_tstring_end', 'on_comma', 'on_tstring_beg', 'on_tstring_content', 'on_tstring_end', 'on_rparen', 'do', 'on_op', 'bindir', 'on_op', 'installoptions', 'on_period', 'bindir', 'on_op', 'bindir', 'end']\n"
     ]
    }
   ],
   "source": [
    "#文字の数を出力\n",
    "chars = sorted(list(set(context)))\n",
    "print(len(chars))\n",
    "print(context[0:1000])"
   ]
  },
  {
   "cell_type": "code",
   "execution_count": 162,
   "metadata": {},
   "outputs": [],
   "source": [
    "model = Word2Vec(sentences=[context], size=vecSize,window=20,iter=60, min_count=minCount)"
   ]
  },
  {
   "cell_type": "code",
   "execution_count": 163,
   "metadata": {},
   "outputs": [],
   "source": [
    "model.save(\"context2Vec.model\")"
   ]
  },
  {
   "cell_type": "code",
   "execution_count": 164,
   "metadata": {},
   "outputs": [
    {
     "name": "stdout",
     "output_type": "stream",
     "text": [
      "{'max_final_vocab': None, 'callbacks': (), 'load': <function call_on_class_only at 0x7f99b0a11a60>, 'wv': <gensim.models.keyedvectors.Word2VecKeyedVectors object at 0x7f99d22c0198>, 'vocabulary': <gensim.models.word2vec.Word2VecVocab object at 0x7f99c2c2bf28>, 'trainables': <gensim.models.word2vec.Word2VecTrainables object at 0x7f99c2c2bf98>, 'sg': 0, 'alpha': 0.025, 'window': 20, 'random': RandomState(MT19937) at 0x7F99B48A9780, 'min_alpha': 0.0001, 'hs': 0, 'negative': 5, 'ns_exponent': 0.75, 'cbow_mean': 1, 'compute_loss': False, 'running_training_loss': 0.0, 'min_alpha_yet_reached': 0.0005150000000000016, 'corpus_count': 1, 'corpus_total_words': 6571699, 'vector_size': 100, 'workers': 3, 'epochs': 60, 'train_count': 1, 'total_train_time': 1.0719216832658276, 'batch_words': 10000, 'model_trimmed_post_training': False, '__numpys': [], '__scipys': [], '__ignoreds': ['cum_table'], '__recursive_saveloads': ['wv', 'vocabulary', 'trainables']}\n"
     ]
    }
   ],
   "source": [
    "print(model.__dict__)"
   ]
  },
  {
   "cell_type": "code",
   "execution_count": 165,
   "metadata": {},
   "outputs": [],
   "source": [
    "# vec = \"-0.6853358 0.9988218   0.234505   -1.226043   -1.1712985   0.08088785 0.13771664 -0.04302575  0.13178964  0.43874675  1.2425153  -1.8021339 -0.20603701 -0.8036615  -0.66484475 -2.0909262  -0.2450483  -0.21732198 0.46949488 -1.2099143   0.04561586 -1.8350524  -0.7133151  -1.0099299 0.08418559 -1.6895096   1.5386585   0.5659825   2.4140491   0.8209373 -0.25291935  1.3641587   1.7289549  -0.9397937  -0.09981896 -0.7151479 -1.4461406   0.7556436  -1.0282445   2.2712402   0.8555923   2.7240524 0.43761805  0.0717182  -1.5820922   0.8430578  -1.9045702  -1.530144 -0.6862272   0.96937376 -1.4380914   0.17706086 -0.5885939   2.198488 -1.3004979  -0.59015065 -1.4042155   0.1303028   1.0835152  -0.47552088 1.4223312  -1.2864567   2.8310368  -0.79589045  0.08151267 -1.1635158 1.050313   -1.1691389   1.9247491   0.18998541  0.44565722 -0.82341796 0.4413328  -1.1910136  -0.07548213 -0.9651144   1.5443525   0.70012844 0.6688103   0.8972111  -1.1931114  -0.15295058  0.511629   -0.09490728 1.2619061  -0.20807959 -0.67545533  0.3498565   0.06079938 -1.9346275 0.39954183  1.6457517  -1.5873971   0.24016018  1.5216115   0.5043213 -0.6238111   0.9895989   0.3314371   1.540229\".split(' ')\n",
    "# vec = [i for i in vec if i != '']\n",
    "# vec = [float(i) for i in vec]\n",
    "# vec = np.array(vec)"
   ]
  },
  {
   "cell_type": "code",
   "execution_count": 166,
   "metadata": {},
   "outputs": [
    {
     "name": "stdout",
     "output_type": "stream",
     "text": [
      "most similar word for if\n",
      "[('else', 0.9317383170127869), ('version', 0.923264741897583), ('nil?', 0.920089840888977), ('unless', 0.9144181609153748), ('bindir', 0.905099630355835), ('sitelibdir', 0.9001295566558838), ('loglevel', 0.8975245356559753), ('next', 0.8941888213157654), ('on_embexpr_end', 0.890113353729248), ('ruby', 0.8872107863426208)]\n",
      "\n",
      "most similar word for else\n",
      "[('nil?', 0.9323390126228333), ('if', 0.9317383766174316), ('not', 0.8977029323577881), ('on_embexpr_end', 0.8763834238052368), ('patternlist', 0.8753452301025391), ('elsif', 0.8740949630737305), ('localedir', 0.8733328580856323), ('version', 0.8684068322181702), ('ruby', 0.866705060005188), ('on_embexpr_beg', 0.8661676049232483)]\n",
      "\n",
      "most similar word for while\n",
      "[('scanner', 0.4296654760837555), ('service_control_pause', 0.3971506357192993), ('delete_min_recursive', 0.3812539875507355), ('telegram_bot_uri', 0.35574543476104736), ('queues', 0.3480502963066101), ('frame_orientation', 0.3474735617637634), ('assert_first', 0.3472612202167511), ('declare_attribute', 0.3447751998901367), ('do_initialize_settings_for_run_mode', 0.34465980529785156), ('bounce_id', 0.34217458963394165)]\n",
      "\n",
      "most similar word for def\n",
      "[('on_rbracket', 0.8665945529937744), ('on_lbracket', 0.8504103422164917), ('do', 0.8078080415725708), ('loglevel', 0.7986248731613159), ('if', 0.7971349954605103), ('UNK', 0.7956417798995972), ('bindir', 0.7832130789756775), ('cmdline_debug', 0.7826492786407471), ('mandir', 0.7818764448165894), ('run', 0.7794317603111267)]\n"
     ]
    },
    {
     "name": "stderr",
     "output_type": "stream",
     "text": [
      "/Users/makoto/anaconda3/envs/ruby_rnn/lib/python3.6/site-packages/ipykernel_launcher.py:2: DeprecationWarning: Call to deprecated `most_similar` (Method will be removed in 4.0.0, use self.wv.most_similar() instead).\n",
      "  \n",
      "/Users/makoto/anaconda3/envs/ruby_rnn/lib/python3.6/site-packages/ipykernel_launcher.py:5: DeprecationWarning: Call to deprecated `most_similar` (Method will be removed in 4.0.0, use self.wv.most_similar() instead).\n",
      "  \"\"\"\n",
      "/Users/makoto/anaconda3/envs/ruby_rnn/lib/python3.6/site-packages/ipykernel_launcher.py:8: DeprecationWarning: Call to deprecated `most_similar` (Method will be removed in 4.0.0, use self.wv.most_similar() instead).\n",
      "  \n",
      "/Users/makoto/anaconda3/envs/ruby_rnn/lib/python3.6/site-packages/ipykernel_launcher.py:11: DeprecationWarning: Call to deprecated `most_similar` (Method will be removed in 4.0.0, use self.wv.most_similar() instead).\n",
      "  # This is added back by InteractiveShellApp.init_path()\n"
     ]
    }
   ],
   "source": [
    "print(\"most similar word for if\")\n",
    "print(model.most_similar( positive=\"if\"))\n",
    "print()\n",
    "print(\"most similar word for else\")\n",
    "print(model.most_similar( positive=\"else\"))\n",
    "print()\n",
    "print(\"most similar word for while\")\n",
    "print(model.most_similar( positive=\"while\"))\n",
    "print()\n",
    "print(\"most similar word for def\")\n",
    "print(model.most_similar( positive=\"end\"))"
   ]
  },
  {
   "cell_type": "code",
   "execution_count": 167,
   "metadata": {},
   "outputs": [
    {
     "name": "stdout",
     "output_type": "stream",
     "text": [
      "31546\n"
     ]
    }
   ],
   "source": [
    "model.wv.index2word\n",
    "print(len(model.wv.index2word))"
   ]
  },
  {
   "cell_type": "code",
   "execution_count": 168,
   "metadata": {},
   "outputs": [
    {
     "name": "stdout",
     "output_type": "stream",
     "text": [
      "vector of  if\n",
      "[ 3.19403     1.1330805   0.45051655  1.8414989   1.9152901  -1.9906254\n",
      "  3.347812   -2.872696   -2.1436086  -0.537019    0.36175296 -3.1318712\n",
      " -0.8818726   0.75625616  0.45208374  0.27368838 -0.97388536 -0.9457335\n",
      "  1.6087055   0.86861646  1.4192241   3.072652    3.8982995   0.40674883\n",
      "  1.1986972   1.1944246   0.34289297 -0.06311839 -0.8335631   1.8101941\n",
      "  1.9236685  -1.9748133  -0.83260334 -0.19011824  4.975718   -0.8213256\n",
      " -3.5922174  -2.5395253  -0.2951625   3.3801935  -0.7993035  -0.17680006\n",
      " -4.4002886   2.6482716  -0.9250576  -0.01593615 -1.2022518  -2.6425095\n",
      "  0.10301345 -1.154618   -2.3255649   1.8915019  -0.4954224  -3.385614\n",
      " -1.0041854   0.9965599   1.2260745   1.6338544   0.86889625  1.6845579\n",
      " -3.1482768  -3.3478155   0.0442487   1.0369545  -1.4668432  -1.2781453\n",
      " -3.4322534   2.740672    1.2113597  -0.75398856 -1.7572935  -4.953053\n",
      " -0.2081256  -0.53858143  0.46458983 -0.67906857 -1.5375513  -1.6469752\n",
      "  3.1392202   1.6463885   0.17616947  1.1431563   1.2104276   0.6273014\n",
      " -1.0708188   2.0817049   0.41162664 -1.7186507  -0.81344336  0.9017544\n",
      "  0.31661525 -1.41032     0.715337    3.4655085   1.7461325  -2.0372381\n",
      " -0.56817967 -0.25755206  3.3071957  -1.6264664 ]\n",
      "\n",
      "vector of  else\n",
      "[ 1.1174011   0.19395757  0.43677765  1.0178223   1.1441671  -0.6183813\n",
      "  1.4278764  -1.4063145  -0.6006219  -0.71766376  0.64107937 -1.1145496\n",
      " -0.5866715   0.14455923  0.13219129  0.00973978 -0.33136016  0.11736254\n",
      "  0.42758328  0.47194096  0.5569754   1.506801    2.091489    0.59348774\n",
      "  0.6290239   0.443734   -0.21556263  0.06415105 -0.5707147   1.364135\n",
      "  0.86520016 -0.43335187 -0.05603658 -0.4536497   1.8225319  -0.84254557\n",
      " -1.3962852  -1.6426742  -0.08411426  1.4548727   0.29312488 -0.16616751\n",
      " -1.9718643   1.3786952  -0.13602896 -0.48044273 -0.4365309  -0.9074104\n",
      " -0.24654189 -0.28026187 -1.4267244   1.0628945   0.08692075 -1.7650621\n",
      " -0.6775616   0.35690448  0.9945343   0.59919035  0.41554388  0.5119918\n",
      " -1.21987    -1.2066997   0.2882688  -0.04731052 -0.27360803 -0.46624696\n",
      " -1.0383015   1.0818859   0.8455605  -0.6506789  -0.528308   -2.597115\n",
      " -0.5317801   0.3257636   0.08412294 -0.2454298  -0.7966931  -0.9241862\n",
      "  0.95931506  1.0412511  -0.29605803  0.33496773 -0.3784534   0.1213881\n",
      " -0.2852868   1.1969029   0.72647214 -1.0630524  -0.2779367   0.2230064\n",
      " -0.06941558 -0.98298323  0.0820397   1.7734061   0.9589296  -0.7791663\n",
      "  0.47014013 -0.37775084  0.73291767 -0.69254106]\n",
      "\n",
      "vector of  while\n",
      "[ 1.9951728e-03  1.1783259e-03 -8.5508400e-05  1.7209698e-03\n",
      "  9.7177981e-04  2.8921049e-03  4.7217789e-03 -3.3617916e-03\n",
      " -2.5532707e-03  3.9128200e-03  2.8736147e-04 -3.4670124e-03\n",
      " -1.4896152e-03 -1.5044045e-03  2.9833666e-03  1.9853378e-03\n",
      "  1.8637920e-03  3.4722912e-03  2.0663945e-03 -2.9447600e-03\n",
      "  6.4706837e-04 -2.0658679e-04 -4.5123873e-03  8.3456404e-04\n",
      " -1.2020421e-03  2.5937576e-03 -3.9154259e-03  7.0386787e-04\n",
      "  4.9649044e-03 -2.8317812e-04 -8.1543563e-05 -4.6866848e-03\n",
      "  3.5343911e-03  4.5553413e-03 -2.2092524e-03  3.1450661e-03\n",
      "  3.6913941e-03 -3.1399501e-03 -3.1971822e-03  3.4928911e-03\n",
      " -4.1751475e-03  3.7247194e-03  4.2989985e-03  1.2579267e-03\n",
      " -1.8387602e-03 -3.5821800e-03 -2.8247731e-03  2.4781763e-03\n",
      "  1.1330784e-03  1.3440980e-03  4.4621329e-04  9.9663285e-04\n",
      "  1.8985135e-03  1.5719492e-03  4.4212919e-03  4.5955470e-03\n",
      "  2.8842806e-03 -1.0839386e-03  4.4366783e-03 -4.0355157e-03\n",
      "  1.1734858e-03  3.5866103e-03 -1.5023626e-04  2.2070336e-03\n",
      "  3.5472254e-03 -4.3126042e-03 -6.0629268e-04  8.1985554e-04\n",
      "  2.3186076e-03 -3.7826682e-03 -3.9987005e-03  4.6698079e-03\n",
      " -2.1107669e-03  3.3528893e-03 -1.7170289e-03  4.3961639e-03\n",
      " -3.7749067e-03 -1.9994909e-03 -3.6275722e-03 -7.7234034e-04\n",
      " -2.1547229e-04 -2.4943473e-04 -3.0828014e-03  4.0639669e-04\n",
      "  2.5444080e-03  4.3485332e-03 -1.3493766e-03  3.2378414e-03\n",
      " -4.9177435e-04  1.5096348e-03 -1.4630302e-03 -4.9994346e-03\n",
      "  3.1245016e-03 -2.6862761e-03 -4.4618454e-03 -1.1057592e-03\n",
      " -2.4341068e-03  3.5227395e-03 -1.9043486e-03  2.6613185e-03]\n",
      "\n",
      "vector of  end\n",
      "[ 2.192074    0.64683056 -0.16773579 -0.3779247  -0.45019722 -1.7155017\n",
      "  2.4263754  -1.6631663  -1.657068   -1.0361187   1.6853528  -1.7896042\n",
      " -0.604789    0.07018146  0.00610842 -1.0953308   0.02426202 -0.57921857\n",
      " -0.2489231  -0.8487193  -0.669164    0.8354105   3.3081686  -1.2150664\n",
      "  2.3165998   1.0853248   0.3737159   0.6756141  -0.07304896  0.837636\n",
      "  2.1164043  -0.54420364 -0.5909529  -0.7101143   3.0123997  -0.12785318\n",
      " -2.333886   -2.3120077   1.120102    1.5740966   0.43052953  0.36458468\n",
      " -1.6207829   1.072933   -1.7689978   0.26485258 -0.44375783 -2.2400556\n",
      "  0.53036624 -0.35201183 -2.2383034   1.817243    0.28967822 -1.5572922\n",
      " -1.3980272   0.52398854 -1.4290264   0.91840994  1.1482027   0.02326073\n",
      " -1.3610632  -2.551605    0.4849686   0.71025014 -0.37021935 -0.9850696\n",
      " -0.8531873   1.1051606   1.3773429  -1.108705   -0.36958608 -3.494843\n",
      "  2.1572995  -0.7768947  -0.7473355  -1.5490754  -0.62820286 -0.20759863\n",
      "  2.2044013   1.3365045   1.3088989   1.1162568   0.43448347  0.6687838\n",
      " -0.09320446  2.4728348  -0.43711278 -1.2656078   0.48374912  0.30274382\n",
      "  1.2891585   0.76946175  0.03230091  1.400975    1.1351525  -1.0389\n",
      " -0.86088365  0.83796996  1.6107733  -0.8402038 ]\n"
     ]
    }
   ],
   "source": [
    "print(\"vector of  if\")\n",
    "print(model.wv[\"if\"])\n",
    "print()\n",
    "print(\"vector of  else\")\n",
    "print(model.wv[\"else\"])\n",
    "print()\n",
    "print(\"vector of  while\")\n",
    "print(model.wv[\"while\"])\n",
    "print()\n",
    "print(\"vector of  end\")\n",
    "print(model.wv[\"end\"])"
   ]
  },
  {
   "cell_type": "code",
   "execution_count": 169,
   "metadata": {},
   "outputs": [
    {
     "name": "stdout",
     "output_type": "stream",
     "text": [
      "[ 0.2172016  -0.0912183   0.12515287 -0.1988491   0.7636572  -0.37931892\n",
      "  0.59383994 -0.0865658  -0.16856602  0.02819949  0.3916712   0.13961911\n",
      "  0.26947418  0.29603317  0.15795396  0.00325697  0.02615698  0.38848385\n",
      " -0.59877187  0.29138368  0.482059    0.22538275  0.00855231  0.09113742\n",
      " -0.21088366  0.1824463   0.0464009  -0.2942286  -0.06929981 -0.00413967\n",
      "  0.05988994 -0.04768267 -0.08871398  0.5008047   0.7370849  -0.27930552\n",
      " -0.04418955 -0.15276648 -0.18035094  0.15069717 -0.09902106  0.14700632\n",
      " -0.75589293  0.17193839  0.690701    0.12198443  0.02114751 -0.5163891\n",
      "  0.32574487 -0.29205003  0.4335573   0.19541183 -0.06956282 -0.2468948\n",
      "  0.20759022  0.02356829  0.1784571  -0.43572462 -0.05986772  0.24256894\n",
      " -0.3340042   0.06665781  0.18092023  0.03361335 -0.10894578 -0.29894945\n",
      " -0.438383   -0.0212799  -0.28508553 -0.13177797 -0.19549574 -0.26142496\n",
      "  0.10394619 -0.18662389 -0.11855673  0.06768669  0.12416319 -0.23998947\n",
      "  0.1134837   0.24060418  0.09193603  0.77475333 -0.37729976 -0.45032576\n",
      "  0.05245098 -0.27164403 -0.1366698  -0.20189495 -0.20026891 -0.32572818\n",
      " -0.21978788 -0.15422012  0.4912822   0.33689958  0.23717038 -0.63647676\n",
      " -0.04405701 -0.17264259  0.18749031  0.23986164]\n"
     ]
    }
   ],
   "source": [
    "print(model.wv[\"min_facter_version\"])"
   ]
  },
  {
   "cell_type": "code",
   "execution_count": null,
   "metadata": {},
   "outputs": [],
   "source": []
  },
  {
   "cell_type": "code",
   "execution_count": null,
   "metadata": {},
   "outputs": [],
   "source": []
  }
 ],
 "metadata": {
  "kernelspec": {
   "display_name": "Python 3",
   "language": "python",
   "name": "python3"
  },
  "language_info": {
   "codemirror_mode": {
    "name": "ipython",
    "version": 3
   },
   "file_extension": ".py",
   "mimetype": "text/x-python",
   "name": "python",
   "nbconvert_exporter": "python",
   "pygments_lexer": "ipython3",
   "version": "3.6.10"
  }
 },
 "nbformat": 4,
 "nbformat_minor": 4
}
