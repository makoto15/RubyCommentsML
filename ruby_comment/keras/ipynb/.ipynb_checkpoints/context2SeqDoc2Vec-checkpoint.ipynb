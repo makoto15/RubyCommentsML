{
 "cells": [
  {
   "cell_type": "code",
   "execution_count": 1,
   "metadata": {},
   "outputs": [
    {
     "name": "stderr",
     "output_type": "stream",
     "text": [
      "Using TensorFlow backend.\n",
      "[nltk_data] Downloading package punkt to /Users/makoto/nltk_data...\n",
      "[nltk_data]   Package punkt is already up-to-date!\n"
     ]
    }
   ],
   "source": [
    "# コメント文の分散表現をDoc2Vecを用いて作る。\n",
    "# 副生産物としてコンテキストの分散表現を得る。\n",
    "\n",
    "from gensim.models import Word2Vec\n",
    "from tensorflow import keras\n",
    "import tensorflow as tf\n",
    "from keras.models import load_model\n",
    "import time\n",
    "import glob\n",
    "import os\n",
    "import os.path\n",
    "import random\n",
    "import sys\n",
    "import numpy as np\n",
    "import nltk\n",
    "nltk.download('punkt')\n",
    "\n",
    "from gensim.test.utils import common_texts\n",
    "from gensim.models.doc2vec import Doc2Vec, TaggedDocument\n",
    "\n",
    "from keras.models import Sequential\n",
    "from keras.layers import Dense, Activation, LSTM\n",
    "from keras.optimizers import RMSprop\n",
    "\n",
    "sys.path.append('..')\n",
    "sys.path.append('../..')"
   ]
  },
  {
   "cell_type": "code",
   "execution_count": 3,
   "metadata": {},
   "outputs": [
    {
     "name": "stdout",
     "output_type": "stream",
     "text": [
      "['../../repositories_cleansing/repositories2TokenWithCommentDownOnlyRawDataWithIdent20Tokens/all.txt']\n"
     ]
    }
   ],
   "source": [
    "file = glob.glob(\"../../repositories_cleansing/repositories2TokenWithCommentDownOnlyRawDataWithIdent20Tokens/all.txt\")\n",
    "print(file)"
   ]
  },
  {
   "cell_type": "code",
   "execution_count": 10,
   "metadata": {},
   "outputs": [],
   "source": [
    "#トークンのサイズ\n",
    "tokenSize=20\n",
    "\n",
    "#コメントのベクトルのサイズ\n",
    "commentVecSize=100"
   ]
  },
  {
   "cell_type": "code",
   "execution_count": 6,
   "metadata": {},
   "outputs": [],
   "source": [
    "comments = []\n",
    "contexts = []\n",
    "f = open(file[0])\n",
    "lines = f.readlines()\n",
    "\n",
    "i=0\n",
    "for line in lines:\n",
    "    temp_data = line.replace(\"\\n\",\"\")\n",
    "    temp_context = temp_data.split(' ')[0:tokenSize]\n",
    "    temp_comment = \" \".join(temp_data.split(' ')[tokenSize:])\n",
    "    morph = nltk.word_tokenize(temp_comment)\n",
    "    contexts.append(temp_context)\n",
    "    comments.append(TaggedDocument(morph,[i]))\n",
    "    i += 1\n",
    "f.close()\n"
   ]
  },
  {
   "cell_type": "code",
   "execution_count": 8,
   "metadata": {},
   "outputs": [
    {
     "name": "stdout",
     "output_type": "stream",
     "text": [
      "48920\n",
      "48920\n",
      "['require', \"'\", 'on_tstring_content', \"'\", 'require', \"'\", 'on_tstring_content', \"'\", 'require', \"'\", 'on_tstring_content', \"'\", 'require', \"'\", 'on_tstring_content', \"'\", 'require', \"'\", 'on_tstring_content', \"'\"]\n",
      "\n",
      "TaggedDocument(['#', '!', '/usr/bin/env', 'ruby', '#', '--', '#', 'Copyright', '2004', 'Austin', 'Ziegler', '<', 'ruby-install', '@', 'halostatue.ca', '>', '#', 'Install', 'utility', '.', 'Based', 'on', 'the', 'original', 'installation', 'script', 'for', 'rdoc', 'by', 'the', '#', 'Pragmatic', 'Programmers', '.', '#', '#', 'This', 'program', 'is', 'free', 'software', '.', 'It', 'may', 'be', 'redistributed', 'and/or', 'modified', 'under', '#', 'the', 'terms', 'of', 'the', 'GPL', 'version', '2', '(', 'or', 'later', ')', 'or', 'the', 'Ruby', 'licence', '.', '#', '#', 'Usage', '#', '--', '--', '-', '#', 'In', 'most', 'cases', ',', 'if', 'you', 'have', 'a', 'typical', 'project', 'layout', ',', 'you', 'will', 'need', 'to', 'do', '#', 'absolutely', 'nothing', 'to', 'make', 'this', 'work', 'for', 'you', '.', 'This', 'layout', 'is', ':', '#', '#', 'bin/', '#', 'executable', 'files', '--', '``', 'commands', \"''\", '#', 'lib/', '#', 'the', 'source', 'of', 'the', 'library', '#', '#', 'The', 'default', 'behaviour', ':', '#', '1', ')', 'Build', 'Rdoc', 'documentation', 'from', 'all', 'files', 'in', 'bin/', '(', 'excluding', '.bat', 'and', '.cmd', ')', ',', '#', 'all', '.rb', 'files', 'in', 'lib/', ',', './README', ',', './ChangeLog', ',', 'and', './Install', '.', '#', '2', ')', 'Build', 'ri', 'documentation', 'from', 'all', 'files', 'in', 'bin/', '(', 'excluding', '.bat', 'and', '.cmd', ')', ',', '#', 'and', 'all', '.rb', 'files', 'in', 'lib/', '.', 'This', 'is', 'disabled', 'by', 'default', 'on', 'Microsoft', 'Windows', '.', '#', '3', ')', 'Install', 'commands', 'from', 'bin/', 'into', 'the', 'Ruby', 'bin', 'directory', '.', 'On', 'Windows', ',', 'if', 'a', '#', 'if', 'a', 'corresponding', 'batch', 'file', '(', '.bat', 'or', '.cmd', ')', 'exists', 'in', 'the', 'bin', 'directory', ',', '#', 'it', 'will', 'be', 'copied', 'over', 'as', 'well', '.', 'Otherwise', ',', 'a', 'batch', 'file', '(', 'always', '.bat', ')', 'will', '#', 'be', 'created', 'to', 'run', 'the', 'specified', 'command', '.', '#', '4', ')', 'Install', 'all', 'library', 'files', 'ending', 'in', '.rb', 'from', 'lib/', 'into', 'Ruby', \"'s\", '#', 'site_lib/version', 'directory', '.', '#', '#', '++'], [0])\n"
     ]
    }
   ],
   "source": [
    "print(len(comments))\n",
    "print(len(contexts))\n",
    "\n",
    "print(contexts[0])\n",
    "print()\n",
    "print(comments[0])"
   ]
  },
  {
   "cell_type": "code",
   "execution_count": 11,
   "metadata": {},
   "outputs": [],
   "source": [
    "model = Doc2Vec(documents=comments, vector_size=commentVecSize,min_count=3,window=5,epochs=20,dm=0)"
   ]
  },
  {
   "cell_type": "code",
   "execution_count": 12,
   "metadata": {},
   "outputs": [
    {
     "name": "stdout",
     "output_type": "stream",
     "text": [
      "TaggedDocument(['#', '!', '/usr/bin/env', 'ruby', '#', '--', '#', 'Copyright', '2004', 'Austin', 'Ziegler', '<', 'ruby-install', '@', 'halostatue.ca', '>', '#', 'Install', 'utility', '.', 'Based', 'on', 'the', 'original', 'installation', 'script', 'for', 'rdoc', 'by', 'the', '#', 'Pragmatic', 'Programmers', '.', '#', '#', 'This', 'program', 'is', 'free', 'software', '.', 'It', 'may', 'be', 'redistributed', 'and/or', 'modified', 'under', '#', 'the', 'terms', 'of', 'the', 'GPL', 'version', '2', '(', 'or', 'later', ')', 'or', 'the', 'Ruby', 'licence', '.', '#', '#', 'Usage', '#', '--', '--', '-', '#', 'In', 'most', 'cases', ',', 'if', 'you', 'have', 'a', 'typical', 'project', 'layout', ',', 'you', 'will', 'need', 'to', 'do', '#', 'absolutely', 'nothing', 'to', 'make', 'this', 'work', 'for', 'you', '.', 'This', 'layout', 'is', ':', '#', '#', 'bin/', '#', 'executable', 'files', '--', '``', 'commands', \"''\", '#', 'lib/', '#', 'the', 'source', 'of', 'the', 'library', '#', '#', 'The', 'default', 'behaviour', ':', '#', '1', ')', 'Build', 'Rdoc', 'documentation', 'from', 'all', 'files', 'in', 'bin/', '(', 'excluding', '.bat', 'and', '.cmd', ')', ',', '#', 'all', '.rb', 'files', 'in', 'lib/', ',', './README', ',', './ChangeLog', ',', 'and', './Install', '.', '#', '2', ')', 'Build', 'ri', 'documentation', 'from', 'all', 'files', 'in', 'bin/', '(', 'excluding', '.bat', 'and', '.cmd', ')', ',', '#', 'and', 'all', '.rb', 'files', 'in', 'lib/', '.', 'This', 'is', 'disabled', 'by', 'default', 'on', 'Microsoft', 'Windows', '.', '#', '3', ')', 'Install', 'commands', 'from', 'bin/', 'into', 'the', 'Ruby', 'bin', 'directory', '.', 'On', 'Windows', ',', 'if', 'a', '#', 'if', 'a', 'corresponding', 'batch', 'file', '(', '.bat', 'or', '.cmd', ')', 'exists', 'in', 'the', 'bin', 'directory', ',', '#', 'it', 'will', 'be', 'copied', 'over', 'as', 'well', '.', 'Otherwise', ',', 'a', 'batch', 'file', '(', 'always', '.bat', ')', 'will', '#', 'be', 'created', 'to', 'run', 'the', 'specified', 'command', '.', '#', '4', ')', 'Install', 'all', 'library', 'files', 'ending', 'in', '.rb', 'from', 'lib/', 'into', 'Ruby', \"'s\", '#', 'site_lib/version', 'directory', '.', '#', '#', '++'], [0])\n",
      "[ 0.62402916  0.32610485  0.1903895   0.24341884 -0.11693926  0.64132607\n",
      " -0.16548885  0.27691773 -0.1573024  -0.11798873  0.36412722 -0.12996767\n",
      " -0.08423316 -0.23072512  0.26238003  0.19021064  0.25117528 -0.17840183\n",
      "  0.51340806 -0.23992945  0.20037152 -0.00413088  0.19806288 -0.1810782\n",
      "  0.05910001 -0.32714954 -0.5349184   0.0598855  -0.28427637  0.22030579\n",
      " -0.30642572 -0.10817584  0.09695943 -0.01836365 -0.01535418 -0.01244201\n",
      " -0.38763532 -0.36275604 -0.079487   -0.4823565  -0.12351108 -0.11922951\n",
      "  0.45861325  0.10521156  0.18653305 -0.34609506  0.1059821   0.10134008\n",
      " -0.184513    0.34895965 -0.25960565 -0.25097996  0.193855   -0.7544786\n",
      "  0.16481955  0.3929661   0.22577891  0.10796007 -0.05577995  0.24316636\n",
      "  0.31441236  0.1958797   0.01237325 -0.1471136   0.34717    -0.12203081\n",
      "  0.01394797  0.09692077  0.18107465  0.16549683  0.05279813  0.0441598\n",
      " -0.47476485 -0.06092342 -0.16356948 -0.21135244 -0.11448421  0.25122255\n",
      "  0.050912    0.12577415  0.33067042 -0.33500534  0.11217006  0.16524409\n",
      "  0.30628222  0.03681022 -0.2768464  -0.67000157  0.19698265  0.54965013\n",
      " -0.19772215 -0.1861086  -0.01525737 -0.10168727 -0.38862726  0.06450412\n",
      "  0.33884674  0.02465922  0.2576399  -0.35261694]\n"
     ]
    }
   ],
   "source": [
    "print(comments[0])\n",
    "print(model.docvecs[0])"
   ]
  },
  {
   "cell_type": "code",
   "execution_count": 16,
   "metadata": {},
   "outputs": [
    {
     "data": {
      "text/plain": [
       "[(48893, 0.5948197841644287),\n",
       " (6831, 0.5800565481185913),\n",
       " (47295, 0.5633103847503662),\n",
       " (26200, 0.5618669986724854),\n",
       " (37102, 0.559576153755188),\n",
       " (21598, 0.5522134304046631),\n",
       " (10013, 0.551425576210022),\n",
       " (12, 0.547688364982605),\n",
       " (40051, 0.5411859750747681),\n",
       " (45645, 0.5407660603523254)]"
      ]
     },
     "execution_count": 16,
     "metadata": {},
     "output_type": "execute_result"
    }
   ],
   "source": [
    "# 文章IDが0の文章と似た文章とその内積を得ることが出来る。\n",
    "model.docvecs.most_similar(0)"
   ]
  },
  {
   "cell_type": "code",
   "execution_count": 23,
   "metadata": {},
   "outputs": [
    {
     "name": "stdout",
     "output_type": "stream",
     "text": [
      "TaggedDocument(['#', 'Cleanup', 'old', 'assets', 'in', 'the', 'compile', 'directory', '.', 'By', 'default', 'it', 'will', '#', 'keep', 'the', 'latest', 'version', ',', '2', 'backups', 'created', 'within', 'the', 'past', 'hour', '.', '#', '#', 'Examples', '#', '#', 'To', 'force', 'only', '1', 'backup', 'to', 'be', 'kept', ',', 'set', 'count=1', 'and', 'age=0', '.', '#', '#', 'To', 'only', 'keep', 'files', 'created', 'within', 'the', 'last', '10', 'minutes', ',', 'set', 'count=0', 'and', '#', 'age=600', '.', '#'], [48893])\n",
      "TaggedDocument(['#', 'As', 'per', 'the', 'BSD', 'manual', 'page', ',', 'set', 'if', 'this', 'is', 'a', 'directory', ',', 'or', 'if', '#', 'any', 'execute', 'bit', 'is', 'set', 'on', 'the', 'original', '(', 'unmodified', ')', 'mode', '.', '#', 'Ignored', 'otherwise', ';', 'it', 'is', '``', 'add', 'if', \"''\", ',', 'not', '``', 'add', 'or', 'clear', \"''\", '.'], [6831])\n",
      "TaggedDocument(['#', 'Batch', 'file', 'deletions', ',', 'deleting', 'over', '130,000+', 'files', 'will', 'crash', '#', 'File.delete', '.'], [47295])\n"
     ]
    }
   ],
   "source": [
    "print(comments[48893])\n",
    "print(comments[6831])\n",
    "print(comments[47295])"
   ]
  },
  {
   "cell_type": "code",
   "execution_count": 22,
   "metadata": {},
   "outputs": [
    {
     "name": "stdout",
     "output_type": "stream",
     "text": [
      "TaggedDocument(['#', 'to_f', 'is', \"n't\", 'quite', 'exact', 'for', 'strings', 'like', '``', '1.5.1', \"''\", 'but', 'is', 'good', '#', 'enough', 'for', 'this', 'purpose', '.'], [3])\n"
     ]
    },
    {
     "data": {
      "text/plain": [
       "[(21156, 0.7969268560409546),\n",
       " (46428, 0.7955382466316223),\n",
       " (8996, 0.790239691734314),\n",
       " (25185, 0.7882362008094788),\n",
       " (27387, 0.7872322201728821),\n",
       " (10683, 0.78582763671875),\n",
       " (36309, 0.7830067873001099),\n",
       " (47889, 0.7829230427742004),\n",
       " (35212, 0.7825849056243896),\n",
       " (45877, 0.7816333770751953)]"
      ]
     },
     "execution_count": 22,
     "metadata": {},
     "output_type": "execute_result"
    }
   ],
   "source": [
    "# 文章IDが3の文章と似た文章とその内積を得ることが出来る。\n",
    "print(comments[3])\n",
    "model.docvecs.most_similar(3)"
   ]
  },
  {
   "cell_type": "code",
   "execution_count": 24,
   "metadata": {},
   "outputs": [
    {
     "name": "stdout",
     "output_type": "stream",
     "text": [
      "TaggedDocument(['#', 'only', 'consume', 'for', '``', 'k4', \"''\"], [21156])\n",
      "TaggedDocument(['#', 'Style/LambdaCall', 'checks', 'for', 'this', 'syntax'], [46428])\n",
      "TaggedDocument(['#', 'OpenBSD', 'uses', 'a', 'format', 'like', '``', 'january', '1', '1970', \"''\"], [8996])\n"
     ]
    }
   ],
   "source": [
    "print(comments[21156])\n",
    "print(comments[46428])\n",
    "print(comments[8996])"
   ]
  },
  {
   "cell_type": "code",
   "execution_count": 15,
   "metadata": {},
   "outputs": [],
   "source": [
    "model.save(\"comment2VecDoc2Vec.model\")"
   ]
  },
  {
   "cell_type": "code",
   "execution_count": 18,
   "metadata": {},
   "outputs": [
    {
     "data": {
      "text/plain": [
       "[('1.1', 0.3753271996974945),\n",
       " ('authie', 0.36641567945480347),\n",
       " ('thereof', 0.35550248622894287),\n",
       " ('composing', 0.3448277711868286),\n",
       " (\"'Stuff\", 0.3283698558807373),\n",
       " ('Encryption', 0.32470762729644775),\n",
       " ('rubocop', 0.31718140840530396),\n",
       " ('conform', 0.31333932280540466),\n",
       " ('dark', 0.3114791512489319),\n",
       " ('MachOStructure', 0.30941542983055115)]"
      ]
     },
     "execution_count": 18,
     "metadata": {},
     "output_type": "execute_result"
    }
   ],
   "source": [
    "model.wv.most_similar(positive=['if', 'while'], negative=['for'])"
   ]
  },
  {
   "cell_type": "code",
   "execution_count": null,
   "metadata": {},
   "outputs": [],
   "source": []
  },
  {
   "cell_type": "code",
   "execution_count": null,
   "metadata": {},
   "outputs": [],
   "source": []
  },
  {
   "cell_type": "code",
   "execution_count": null,
   "metadata": {},
   "outputs": [],
   "source": []
  },
  {
   "cell_type": "code",
   "execution_count": null,
   "metadata": {},
   "outputs": [],
   "source": []
  },
  {
   "cell_type": "code",
   "execution_count": null,
   "metadata": {},
   "outputs": [],
   "source": []
  },
  {
   "cell_type": "code",
   "execution_count": null,
   "metadata": {},
   "outputs": [],
   "source": []
  }
 ],
 "metadata": {
  "kernelspec": {
   "display_name": "Python 3",
   "language": "python",
   "name": "python3"
  },
  "language_info": {
   "codemirror_mode": {
    "name": "ipython",
    "version": 3
   },
   "file_extension": ".py",
   "mimetype": "text/x-python",
   "name": "python",
   "nbconvert_exporter": "python",
   "pygments_lexer": "ipython3",
   "version": "3.6.10"
  }
 },
 "nbformat": 4,
 "nbformat_minor": 4
}
